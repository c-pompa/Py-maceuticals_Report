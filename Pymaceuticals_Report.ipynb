{
 "cells": [
  {
   "cell_type": "markdown",
   "metadata": {},
   "source": [
    "## **Observations and Insights**"
   ]
  },
  {
   "cell_type": "code",
   "execution_count": 55,
   "metadata": {},
   "outputs": [],
   "source": [
    "# Dependencies and Setup\n",
    "import matplotlib\n",
    "import matplotlib.pyplot as plt\n",
    "import pandas as pd\n",
    "import scipy.stats as st\n",
    "import numpy as np\n",
    "\n",
    "# Study data files\n",
    "mouse_metadata_path = \"data/Mouse_metadata.csv\"\n",
    "study_results_path = \"data/Study_results.csv\"\n",
    "\n",
    "# Read the mouse data and the study results\n",
    "mouse_metadata = pd.read_csv(mouse_metadata_path)\n",
    "study_results = pd.read_csv(study_results_path)"
   ]
  },
  {
   "cell_type": "code",
   "execution_count": 56,
   "metadata": {},
   "outputs": [
    {
     "data": {
      "text/html": [
       "<div>\n",
       "<style scoped>\n",
       "    .dataframe tbody tr th:only-of-type {\n",
       "        vertical-align: middle;\n",
       "    }\n",
       "\n",
       "    .dataframe tbody tr th {\n",
       "        vertical-align: top;\n",
       "    }\n",
       "\n",
       "    .dataframe thead th {\n",
       "        text-align: right;\n",
       "    }\n",
       "</style>\n",
       "<table border=\"1\" class=\"dataframe\">\n",
       "  <thead>\n",
       "    <tr style=\"text-align: right;\">\n",
       "      <th></th>\n",
       "      <th>Mouse ID</th>\n",
       "      <th>Drug Regimen</th>\n",
       "      <th>Sex</th>\n",
       "      <th>Age_months</th>\n",
       "      <th>Weight (g)</th>\n",
       "      <th>Timepoint</th>\n",
       "      <th>Tumor Volume (mm3)</th>\n",
       "      <th>Metastatic Sites</th>\n",
       "    </tr>\n",
       "  </thead>\n",
       "  <tbody>\n",
       "    <tr>\n",
       "      <th>0</th>\n",
       "      <td>k403</td>\n",
       "      <td>Ramicane</td>\n",
       "      <td>Male</td>\n",
       "      <td>21</td>\n",
       "      <td>16</td>\n",
       "      <td>0</td>\n",
       "      <td>45.000000</td>\n",
       "      <td>0</td>\n",
       "    </tr>\n",
       "    <tr>\n",
       "      <th>1</th>\n",
       "      <td>k403</td>\n",
       "      <td>Ramicane</td>\n",
       "      <td>Male</td>\n",
       "      <td>21</td>\n",
       "      <td>16</td>\n",
       "      <td>5</td>\n",
       "      <td>38.825898</td>\n",
       "      <td>0</td>\n",
       "    </tr>\n",
       "    <tr>\n",
       "      <th>2</th>\n",
       "      <td>k403</td>\n",
       "      <td>Ramicane</td>\n",
       "      <td>Male</td>\n",
       "      <td>21</td>\n",
       "      <td>16</td>\n",
       "      <td>10</td>\n",
       "      <td>35.014271</td>\n",
       "      <td>1</td>\n",
       "    </tr>\n",
       "    <tr>\n",
       "      <th>3</th>\n",
       "      <td>k403</td>\n",
       "      <td>Ramicane</td>\n",
       "      <td>Male</td>\n",
       "      <td>21</td>\n",
       "      <td>16</td>\n",
       "      <td>15</td>\n",
       "      <td>34.223992</td>\n",
       "      <td>1</td>\n",
       "    </tr>\n",
       "    <tr>\n",
       "      <th>4</th>\n",
       "      <td>k403</td>\n",
       "      <td>Ramicane</td>\n",
       "      <td>Male</td>\n",
       "      <td>21</td>\n",
       "      <td>16</td>\n",
       "      <td>20</td>\n",
       "      <td>32.997729</td>\n",
       "      <td>1</td>\n",
       "    </tr>\n",
       "    <tr>\n",
       "      <th>...</th>\n",
       "      <td>...</td>\n",
       "      <td>...</td>\n",
       "      <td>...</td>\n",
       "      <td>...</td>\n",
       "      <td>...</td>\n",
       "      <td>...</td>\n",
       "      <td>...</td>\n",
       "      <td>...</td>\n",
       "    </tr>\n",
       "    <tr>\n",
       "      <th>1888</th>\n",
       "      <td>z969</td>\n",
       "      <td>Naftisol</td>\n",
       "      <td>Male</td>\n",
       "      <td>9</td>\n",
       "      <td>30</td>\n",
       "      <td>25</td>\n",
       "      <td>63.145652</td>\n",
       "      <td>2</td>\n",
       "    </tr>\n",
       "    <tr>\n",
       "      <th>1889</th>\n",
       "      <td>z969</td>\n",
       "      <td>Naftisol</td>\n",
       "      <td>Male</td>\n",
       "      <td>9</td>\n",
       "      <td>30</td>\n",
       "      <td>30</td>\n",
       "      <td>65.841013</td>\n",
       "      <td>3</td>\n",
       "    </tr>\n",
       "    <tr>\n",
       "      <th>1890</th>\n",
       "      <td>z969</td>\n",
       "      <td>Naftisol</td>\n",
       "      <td>Male</td>\n",
       "      <td>9</td>\n",
       "      <td>30</td>\n",
       "      <td>35</td>\n",
       "      <td>69.176246</td>\n",
       "      <td>4</td>\n",
       "    </tr>\n",
       "    <tr>\n",
       "      <th>1891</th>\n",
       "      <td>z969</td>\n",
       "      <td>Naftisol</td>\n",
       "      <td>Male</td>\n",
       "      <td>9</td>\n",
       "      <td>30</td>\n",
       "      <td>40</td>\n",
       "      <td>70.314904</td>\n",
       "      <td>4</td>\n",
       "    </tr>\n",
       "    <tr>\n",
       "      <th>1892</th>\n",
       "      <td>z969</td>\n",
       "      <td>Naftisol</td>\n",
       "      <td>Male</td>\n",
       "      <td>9</td>\n",
       "      <td>30</td>\n",
       "      <td>45</td>\n",
       "      <td>73.867845</td>\n",
       "      <td>4</td>\n",
       "    </tr>\n",
       "  </tbody>\n",
       "</table>\n",
       "<p>1893 rows × 8 columns</p>\n",
       "</div>"
      ],
      "text/plain": [
       "     Mouse ID Drug Regimen   Sex  Age_months  Weight (g)  Timepoint  \\\n",
       "0        k403     Ramicane  Male          21          16          0   \n",
       "1        k403     Ramicane  Male          21          16          5   \n",
       "2        k403     Ramicane  Male          21          16         10   \n",
       "3        k403     Ramicane  Male          21          16         15   \n",
       "4        k403     Ramicane  Male          21          16         20   \n",
       "...       ...          ...   ...         ...         ...        ...   \n",
       "1888     z969     Naftisol  Male           9          30         25   \n",
       "1889     z969     Naftisol  Male           9          30         30   \n",
       "1890     z969     Naftisol  Male           9          30         35   \n",
       "1891     z969     Naftisol  Male           9          30         40   \n",
       "1892     z969     Naftisol  Male           9          30         45   \n",
       "\n",
       "      Tumor Volume (mm3)  Metastatic Sites  \n",
       "0              45.000000                 0  \n",
       "1              38.825898                 0  \n",
       "2              35.014271                 1  \n",
       "3              34.223992                 1  \n",
       "4              32.997729                 1  \n",
       "...                  ...               ...  \n",
       "1888           63.145652                 2  \n",
       "1889           65.841013                 3  \n",
       "1890           69.176246                 4  \n",
       "1891           70.314904                 4  \n",
       "1892           73.867845                 4  \n",
       "\n",
       "[1893 rows x 8 columns]"
      ]
     },
     "execution_count": 56,
     "metadata": {},
     "output_type": "execute_result"
    }
   ],
   "source": [
    "# Combine the data into a single dataset\n",
    "combined_df = pd.merge(mouse_metadata, study_results, on=\"Mouse ID\")\n",
    "combined_df"
   ]
  },
  {
   "cell_type": "markdown",
   "metadata": {},
   "source": [
    "### Answer"
   ]
  },
  {
   "cell_type": "code",
   "execution_count": 57,
   "metadata": {},
   "outputs": [
    {
     "data": {
      "text/plain": [
       "249"
      ]
     },
     "execution_count": 57,
     "metadata": {},
     "output_type": "execute_result"
    }
   ],
   "source": [
    "# Checking the number of mice in the DataFrame.\n",
    "count_of_mice = combined_df['Mouse ID'].value_counts()\n",
    "count_of_mice.count()"
   ]
  },
  {
   "cell_type": "markdown",
   "metadata": {},
   "source": [
    "----------------------------------------------------------------------------"
   ]
  },
  {
   "cell_type": "code",
   "execution_count": 58,
   "metadata": {},
   "outputs": [],
   "source": [
    "# Getting the duplicate mice by ID number that shows up for Mouse ID and Timepoint. \n",
    "# Copy original df into new \n",
    "dup_mice_df = combined_df.copy()"
   ]
  },
  {
   "cell_type": "code",
   "execution_count": 59,
   "metadata": {},
   "outputs": [
    {
     "data": {
      "text/html": [
       "<div>\n",
       "<style scoped>\n",
       "    .dataframe tbody tr th:only-of-type {\n",
       "        vertical-align: middle;\n",
       "    }\n",
       "\n",
       "    .dataframe tbody tr th {\n",
       "        vertical-align: top;\n",
       "    }\n",
       "\n",
       "    .dataframe thead th {\n",
       "        text-align: right;\n",
       "    }\n",
       "</style>\n",
       "<table border=\"1\" class=\"dataframe\">\n",
       "  <thead>\n",
       "    <tr style=\"text-align: right;\">\n",
       "      <th></th>\n",
       "      <th>Mouse ID</th>\n",
       "      <th>Timepoint</th>\n",
       "    </tr>\n",
       "  </thead>\n",
       "  <tbody>\n",
       "    <tr>\n",
       "      <th>0</th>\n",
       "      <td>k403</td>\n",
       "      <td>0</td>\n",
       "    </tr>\n",
       "    <tr>\n",
       "      <th>1</th>\n",
       "      <td>k403</td>\n",
       "      <td>5</td>\n",
       "    </tr>\n",
       "    <tr>\n",
       "      <th>2</th>\n",
       "      <td>k403</td>\n",
       "      <td>10</td>\n",
       "    </tr>\n",
       "    <tr>\n",
       "      <th>3</th>\n",
       "      <td>k403</td>\n",
       "      <td>15</td>\n",
       "    </tr>\n",
       "    <tr>\n",
       "      <th>4</th>\n",
       "      <td>k403</td>\n",
       "      <td>20</td>\n",
       "    </tr>\n",
       "    <tr>\n",
       "      <th>...</th>\n",
       "      <td>...</td>\n",
       "      <td>...</td>\n",
       "    </tr>\n",
       "    <tr>\n",
       "      <th>1888</th>\n",
       "      <td>z969</td>\n",
       "      <td>25</td>\n",
       "    </tr>\n",
       "    <tr>\n",
       "      <th>1889</th>\n",
       "      <td>z969</td>\n",
       "      <td>30</td>\n",
       "    </tr>\n",
       "    <tr>\n",
       "      <th>1890</th>\n",
       "      <td>z969</td>\n",
       "      <td>35</td>\n",
       "    </tr>\n",
       "    <tr>\n",
       "      <th>1891</th>\n",
       "      <td>z969</td>\n",
       "      <td>40</td>\n",
       "    </tr>\n",
       "    <tr>\n",
       "      <th>1892</th>\n",
       "      <td>z969</td>\n",
       "      <td>45</td>\n",
       "    </tr>\n",
       "  </tbody>\n",
       "</table>\n",
       "<p>1888 rows × 2 columns</p>\n",
       "</div>"
      ],
      "text/plain": [
       "     Mouse ID  Timepoint\n",
       "0        k403          0\n",
       "1        k403          5\n",
       "2        k403         10\n",
       "3        k403         15\n",
       "4        k403         20\n",
       "...       ...        ...\n",
       "1888     z969         25\n",
       "1889     z969         30\n",
       "1890     z969         35\n",
       "1891     z969         40\n",
       "1892     z969         45\n",
       "\n",
       "[1888 rows x 2 columns]"
      ]
     },
     "execution_count": 59,
     "metadata": {},
     "output_type": "execute_result"
    }
   ],
   "source": [
    "# Select only columns used\n",
    "# drop duplicates\n",
    "duplicate_mice = dup_mice_df[['Mouse ID', 'Timepoint']].drop_duplicates()\n",
    "duplicate_mice"
   ]
  },
  {
   "cell_type": "code",
   "execution_count": 60,
   "metadata": {},
   "outputs": [
    {
     "data": {
      "text/html": [
       "<div>\n",
       "<style scoped>\n",
       "    .dataframe tbody tr th:only-of-type {\n",
       "        vertical-align: middle;\n",
       "    }\n",
       "\n",
       "    .dataframe tbody tr th {\n",
       "        vertical-align: top;\n",
       "    }\n",
       "\n",
       "    .dataframe thead th {\n",
       "        text-align: right;\n",
       "    }\n",
       "</style>\n",
       "<table border=\"1\" class=\"dataframe\">\n",
       "  <thead>\n",
       "    <tr style=\"text-align: right;\">\n",
       "      <th></th>\n",
       "      <th>Mouse ID</th>\n",
       "      <th>Drug Regimen</th>\n",
       "      <th>Sex</th>\n",
       "      <th>Age_months</th>\n",
       "      <th>Weight (g)</th>\n",
       "      <th>Timepoint</th>\n",
       "      <th>Tumor Volume (mm3)</th>\n",
       "      <th>Metastatic Sites</th>\n",
       "    </tr>\n",
       "  </thead>\n",
       "  <tbody>\n",
       "    <tr>\n",
       "      <th>909</th>\n",
       "      <td>g989</td>\n",
       "      <td>Propriva</td>\n",
       "      <td>Female</td>\n",
       "      <td>21</td>\n",
       "      <td>26</td>\n",
       "      <td>0</td>\n",
       "      <td>45.000000</td>\n",
       "      <td>0</td>\n",
       "    </tr>\n",
       "    <tr>\n",
       "      <th>911</th>\n",
       "      <td>g989</td>\n",
       "      <td>Propriva</td>\n",
       "      <td>Female</td>\n",
       "      <td>21</td>\n",
       "      <td>26</td>\n",
       "      <td>5</td>\n",
       "      <td>47.570392</td>\n",
       "      <td>0</td>\n",
       "    </tr>\n",
       "    <tr>\n",
       "      <th>913</th>\n",
       "      <td>g989</td>\n",
       "      <td>Propriva</td>\n",
       "      <td>Female</td>\n",
       "      <td>21</td>\n",
       "      <td>26</td>\n",
       "      <td>10</td>\n",
       "      <td>49.880528</td>\n",
       "      <td>0</td>\n",
       "    </tr>\n",
       "    <tr>\n",
       "      <th>915</th>\n",
       "      <td>g989</td>\n",
       "      <td>Propriva</td>\n",
       "      <td>Female</td>\n",
       "      <td>21</td>\n",
       "      <td>26</td>\n",
       "      <td>15</td>\n",
       "      <td>53.442020</td>\n",
       "      <td>0</td>\n",
       "    </tr>\n",
       "    <tr>\n",
       "      <th>917</th>\n",
       "      <td>g989</td>\n",
       "      <td>Propriva</td>\n",
       "      <td>Female</td>\n",
       "      <td>21</td>\n",
       "      <td>26</td>\n",
       "      <td>20</td>\n",
       "      <td>54.657650</td>\n",
       "      <td>1</td>\n",
       "    </tr>\n",
       "  </tbody>\n",
       "</table>\n",
       "</div>"
      ],
      "text/plain": [
       "    Mouse ID Drug Regimen     Sex  Age_months  Weight (g)  Timepoint  \\\n",
       "909     g989     Propriva  Female          21          26          0   \n",
       "911     g989     Propriva  Female          21          26          5   \n",
       "913     g989     Propriva  Female          21          26         10   \n",
       "915     g989     Propriva  Female          21          26         15   \n",
       "917     g989     Propriva  Female          21          26         20   \n",
       "\n",
       "     Tumor Volume (mm3)  Metastatic Sites  \n",
       "909           45.000000                 0  \n",
       "911           47.570392                 0  \n",
       "913           49.880528                 0  \n",
       "915           53.442020                 0  \n",
       "917           54.657650                 1  "
      ]
     },
     "execution_count": 60,
     "metadata": {},
     "output_type": "execute_result"
    }
   ],
   "source": [
    "# Getting the duplicate mice by ID number that shows up for Mouse ID and Timepoint. \n",
    "duplicate_mice_shown = dup_mice_df[dup_mice_df[['Mouse ID', 'Timepoint']].duplicated()]\n",
    "duplicate_mice_shown"
   ]
  },
  {
   "cell_type": "code",
   "execution_count": 61,
   "metadata": {},
   "outputs": [
    {
     "data": {
      "text/html": [
       "<div>\n",
       "<style scoped>\n",
       "    .dataframe tbody tr th:only-of-type {\n",
       "        vertical-align: middle;\n",
       "    }\n",
       "\n",
       "    .dataframe tbody tr th {\n",
       "        vertical-align: top;\n",
       "    }\n",
       "\n",
       "    .dataframe thead th {\n",
       "        text-align: right;\n",
       "    }\n",
       "</style>\n",
       "<table border=\"1\" class=\"dataframe\">\n",
       "  <thead>\n",
       "    <tr style=\"text-align: right;\">\n",
       "      <th></th>\n",
       "      <th>Mouse ID</th>\n",
       "      <th>Drug Regimen</th>\n",
       "      <th>Sex</th>\n",
       "      <th>Age_months</th>\n",
       "      <th>Weight (g)</th>\n",
       "      <th>Timepoint</th>\n",
       "      <th>Tumor Volume (mm3)</th>\n",
       "      <th>Metastatic Sites</th>\n",
       "    </tr>\n",
       "  </thead>\n",
       "  <tbody>\n",
       "    <tr>\n",
       "      <th>909</th>\n",
       "      <td>g989</td>\n",
       "      <td>Propriva</td>\n",
       "      <td>Female</td>\n",
       "      <td>21</td>\n",
       "      <td>26</td>\n",
       "      <td>0</td>\n",
       "      <td>45.000000</td>\n",
       "      <td>0</td>\n",
       "    </tr>\n",
       "    <tr>\n",
       "      <th>911</th>\n",
       "      <td>g989</td>\n",
       "      <td>Propriva</td>\n",
       "      <td>Female</td>\n",
       "      <td>21</td>\n",
       "      <td>26</td>\n",
       "      <td>5</td>\n",
       "      <td>47.570392</td>\n",
       "      <td>0</td>\n",
       "    </tr>\n",
       "    <tr>\n",
       "      <th>913</th>\n",
       "      <td>g989</td>\n",
       "      <td>Propriva</td>\n",
       "      <td>Female</td>\n",
       "      <td>21</td>\n",
       "      <td>26</td>\n",
       "      <td>10</td>\n",
       "      <td>49.880528</td>\n",
       "      <td>0</td>\n",
       "    </tr>\n",
       "    <tr>\n",
       "      <th>915</th>\n",
       "      <td>g989</td>\n",
       "      <td>Propriva</td>\n",
       "      <td>Female</td>\n",
       "      <td>21</td>\n",
       "      <td>26</td>\n",
       "      <td>15</td>\n",
       "      <td>53.442020</td>\n",
       "      <td>0</td>\n",
       "    </tr>\n",
       "    <tr>\n",
       "      <th>917</th>\n",
       "      <td>g989</td>\n",
       "      <td>Propriva</td>\n",
       "      <td>Female</td>\n",
       "      <td>21</td>\n",
       "      <td>26</td>\n",
       "      <td>20</td>\n",
       "      <td>54.657650</td>\n",
       "      <td>1</td>\n",
       "    </tr>\n",
       "  </tbody>\n",
       "</table>\n",
       "</div>"
      ],
      "text/plain": [
       "    Mouse ID Drug Regimen     Sex  Age_months  Weight (g)  Timepoint  \\\n",
       "909     g989     Propriva  Female          21          26          0   \n",
       "911     g989     Propriva  Female          21          26          5   \n",
       "913     g989     Propriva  Female          21          26         10   \n",
       "915     g989     Propriva  Female          21          26         15   \n",
       "917     g989     Propriva  Female          21          26         20   \n",
       "\n",
       "     Tumor Volume (mm3)  Metastatic Sites  \n",
       "909           45.000000                 0  \n",
       "911           47.570392                 0  \n",
       "913           49.880528                 0  \n",
       "915           53.442020                 0  \n",
       "917           54.657650                 1  "
      ]
     },
     "execution_count": 61,
     "metadata": {},
     "output_type": "execute_result"
    }
   ],
   "source": [
    "# Optional: Get all the data for the duplicate mouse ID. \n",
    "# ALL ROWS\n",
    "dup_mice_all_rows = combined_df.copy()\n",
    "# Filter out the duplicate data that was dropped\n",
    "dup_mice_all_rows2 = dup_mice_all_rows[dup_mice_all_rows[['Mouse ID', 'Timepoint']].duplicated()]\n",
    "dup_mice_all_rows2"
   ]
  },
  {
   "cell_type": "code",
   "execution_count": 62,
   "metadata": {},
   "outputs": [
    {
     "data": {
      "text/html": [
       "<div>\n",
       "<style scoped>\n",
       "    .dataframe tbody tr th:only-of-type {\n",
       "        vertical-align: middle;\n",
       "    }\n",
       "\n",
       "    .dataframe tbody tr th {\n",
       "        vertical-align: top;\n",
       "    }\n",
       "\n",
       "    .dataframe thead th {\n",
       "        text-align: right;\n",
       "    }\n",
       "</style>\n",
       "<table border=\"1\" class=\"dataframe\">\n",
       "  <thead>\n",
       "    <tr style=\"text-align: right;\">\n",
       "      <th></th>\n",
       "      <th>Mouse ID</th>\n",
       "      <th>Drug Regimen</th>\n",
       "      <th>Sex</th>\n",
       "      <th>Age_months</th>\n",
       "      <th>Weight (g)</th>\n",
       "      <th>Timepoint</th>\n",
       "      <th>Tumor Volume (mm3)</th>\n",
       "      <th>Metastatic Sites</th>\n",
       "    </tr>\n",
       "  </thead>\n",
       "  <tbody>\n",
       "    <tr>\n",
       "      <th>0</th>\n",
       "      <td>k403</td>\n",
       "      <td>Ramicane</td>\n",
       "      <td>Male</td>\n",
       "      <td>21</td>\n",
       "      <td>16</td>\n",
       "      <td>0</td>\n",
       "      <td>45.000000</td>\n",
       "      <td>0</td>\n",
       "    </tr>\n",
       "    <tr>\n",
       "      <th>1</th>\n",
       "      <td>k403</td>\n",
       "      <td>Ramicane</td>\n",
       "      <td>Male</td>\n",
       "      <td>21</td>\n",
       "      <td>16</td>\n",
       "      <td>5</td>\n",
       "      <td>38.825898</td>\n",
       "      <td>0</td>\n",
       "    </tr>\n",
       "    <tr>\n",
       "      <th>2</th>\n",
       "      <td>k403</td>\n",
       "      <td>Ramicane</td>\n",
       "      <td>Male</td>\n",
       "      <td>21</td>\n",
       "      <td>16</td>\n",
       "      <td>10</td>\n",
       "      <td>35.014271</td>\n",
       "      <td>1</td>\n",
       "    </tr>\n",
       "    <tr>\n",
       "      <th>3</th>\n",
       "      <td>k403</td>\n",
       "      <td>Ramicane</td>\n",
       "      <td>Male</td>\n",
       "      <td>21</td>\n",
       "      <td>16</td>\n",
       "      <td>15</td>\n",
       "      <td>34.223992</td>\n",
       "      <td>1</td>\n",
       "    </tr>\n",
       "    <tr>\n",
       "      <th>4</th>\n",
       "      <td>k403</td>\n",
       "      <td>Ramicane</td>\n",
       "      <td>Male</td>\n",
       "      <td>21</td>\n",
       "      <td>16</td>\n",
       "      <td>20</td>\n",
       "      <td>32.997729</td>\n",
       "      <td>1</td>\n",
       "    </tr>\n",
       "    <tr>\n",
       "      <th>...</th>\n",
       "      <td>...</td>\n",
       "      <td>...</td>\n",
       "      <td>...</td>\n",
       "      <td>...</td>\n",
       "      <td>...</td>\n",
       "      <td>...</td>\n",
       "      <td>...</td>\n",
       "      <td>...</td>\n",
       "    </tr>\n",
       "    <tr>\n",
       "      <th>1888</th>\n",
       "      <td>z969</td>\n",
       "      <td>Naftisol</td>\n",
       "      <td>Male</td>\n",
       "      <td>9</td>\n",
       "      <td>30</td>\n",
       "      <td>25</td>\n",
       "      <td>63.145652</td>\n",
       "      <td>2</td>\n",
       "    </tr>\n",
       "    <tr>\n",
       "      <th>1889</th>\n",
       "      <td>z969</td>\n",
       "      <td>Naftisol</td>\n",
       "      <td>Male</td>\n",
       "      <td>9</td>\n",
       "      <td>30</td>\n",
       "      <td>30</td>\n",
       "      <td>65.841013</td>\n",
       "      <td>3</td>\n",
       "    </tr>\n",
       "    <tr>\n",
       "      <th>1890</th>\n",
       "      <td>z969</td>\n",
       "      <td>Naftisol</td>\n",
       "      <td>Male</td>\n",
       "      <td>9</td>\n",
       "      <td>30</td>\n",
       "      <td>35</td>\n",
       "      <td>69.176246</td>\n",
       "      <td>4</td>\n",
       "    </tr>\n",
       "    <tr>\n",
       "      <th>1891</th>\n",
       "      <td>z969</td>\n",
       "      <td>Naftisol</td>\n",
       "      <td>Male</td>\n",
       "      <td>9</td>\n",
       "      <td>30</td>\n",
       "      <td>40</td>\n",
       "      <td>70.314904</td>\n",
       "      <td>4</td>\n",
       "    </tr>\n",
       "    <tr>\n",
       "      <th>1892</th>\n",
       "      <td>z969</td>\n",
       "      <td>Naftisol</td>\n",
       "      <td>Male</td>\n",
       "      <td>9</td>\n",
       "      <td>30</td>\n",
       "      <td>45</td>\n",
       "      <td>73.867845</td>\n",
       "      <td>4</td>\n",
       "    </tr>\n",
       "  </tbody>\n",
       "</table>\n",
       "<p>1880 rows × 8 columns</p>\n",
       "</div>"
      ],
      "text/plain": [
       "     Mouse ID Drug Regimen   Sex  Age_months  Weight (g)  Timepoint  \\\n",
       "0        k403     Ramicane  Male          21          16          0   \n",
       "1        k403     Ramicane  Male          21          16          5   \n",
       "2        k403     Ramicane  Male          21          16         10   \n",
       "3        k403     Ramicane  Male          21          16         15   \n",
       "4        k403     Ramicane  Male          21          16         20   \n",
       "...       ...          ...   ...         ...         ...        ...   \n",
       "1888     z969     Naftisol  Male           9          30         25   \n",
       "1889     z969     Naftisol  Male           9          30         30   \n",
       "1890     z969     Naftisol  Male           9          30         35   \n",
       "1891     z969     Naftisol  Male           9          30         40   \n",
       "1892     z969     Naftisol  Male           9          30         45   \n",
       "\n",
       "      Tumor Volume (mm3)  Metastatic Sites  \n",
       "0              45.000000                 0  \n",
       "1              38.825898                 0  \n",
       "2              35.014271                 1  \n",
       "3              34.223992                 1  \n",
       "4              32.997729                 1  \n",
       "...                  ...               ...  \n",
       "1888           63.145652                 2  \n",
       "1889           65.841013                 3  \n",
       "1890           69.176246                 4  \n",
       "1891           70.314904                 4  \n",
       "1892           73.867845                 4  \n",
       "\n",
       "[1880 rows x 8 columns]"
      ]
     },
     "execution_count": 62,
     "metadata": {},
     "output_type": "execute_result"
    }
   ],
   "source": [
    "# Create a clean DataFrame by conpletely removing the duplicate mouse by its ID.\n",
    "duplicate_mouse_identified = dup_mice_df[ dup_mice_df['Mouse ID'] == 'g989' ].index\n",
    "dup_mice_df.drop(duplicate_mouse_identified , inplace=True)\n",
    "dup_mice_df"
   ]
  },
  {
   "cell_type": "code",
   "execution_count": 63,
   "metadata": {},
   "outputs": [
    {
     "data": {
      "text/plain": [
       "249"
      ]
     },
     "execution_count": 63,
     "metadata": {},
     "output_type": "execute_result"
    }
   ],
   "source": [
    "# Checking the number of mice in the DataFrame.\n",
    "# Duplicate not removed\n",
    "count_of_mice = combined_df['Mouse ID'].nunique()\n",
    "count_of_mice"
   ]
  },
  {
   "cell_type": "code",
   "execution_count": 64,
   "metadata": {},
   "outputs": [
    {
     "data": {
      "text/plain": [
       "248"
      ]
     },
     "execution_count": 64,
     "metadata": {},
     "output_type": "execute_result"
    }
   ],
   "source": [
    "# Checking the number of mice in the clean DataFrame.\n",
    "# Removed the duplicate. Did not leave one original.\n",
    "count_of_mice2 = dup_mice_df['Mouse ID'].nunique()\n",
    "count_of_mice2"
   ]
  },
  {
   "cell_type": "code",
   "execution_count": 65,
   "metadata": {},
   "outputs": [],
   "source": [
    "assert count_of_mice2 == 248"
   ]
  },
  {
   "cell_type": "code",
   "execution_count": null,
   "metadata": {},
   "outputs": [],
   "source": []
  },
  {
   "cell_type": "markdown",
   "metadata": {},
   "source": [
    "## **Summary Statistics**"
   ]
  },
  {
   "cell_type": "markdown",
   "metadata": {},
   "source": [
    "Generate a summary statistics table of mean, median, variance, standard deviation, and SEM of the tumor volume for each regimen"
   ]
  },
  {
   "cell_type": "code",
   "execution_count": 66,
   "metadata": {},
   "outputs": [
    {
     "data": {
      "text/html": [
       "<div>\n",
       "<style scoped>\n",
       "    .dataframe tbody tr th:only-of-type {\n",
       "        vertical-align: middle;\n",
       "    }\n",
       "\n",
       "    .dataframe tbody tr th {\n",
       "        vertical-align: top;\n",
       "    }\n",
       "\n",
       "    .dataframe thead th {\n",
       "        text-align: right;\n",
       "    }\n",
       "</style>\n",
       "<table border=\"1\" class=\"dataframe\">\n",
       "  <thead>\n",
       "    <tr style=\"text-align: right;\">\n",
       "      <th></th>\n",
       "      <th>Mean</th>\n",
       "      <th>Median</th>\n",
       "      <th>Variance</th>\n",
       "      <th>Std Div</th>\n",
       "      <th>SEM</th>\n",
       "    </tr>\n",
       "    <tr>\n",
       "      <th>Drug Regimen</th>\n",
       "      <th></th>\n",
       "      <th></th>\n",
       "      <th></th>\n",
       "      <th></th>\n",
       "      <th></th>\n",
       "    </tr>\n",
       "  </thead>\n",
       "  <tbody>\n",
       "    <tr>\n",
       "      <th>Capomulin</th>\n",
       "      <td>40.675741</td>\n",
       "      <td>41.557809</td>\n",
       "      <td>24.947764</td>\n",
       "      <td>4.994774</td>\n",
       "      <td>0.329346</td>\n",
       "    </tr>\n",
       "    <tr>\n",
       "      <th>Ceftamin</th>\n",
       "      <td>52.591172</td>\n",
       "      <td>51.776157</td>\n",
       "      <td>39.290177</td>\n",
       "      <td>6.268188</td>\n",
       "      <td>0.469821</td>\n",
       "    </tr>\n",
       "    <tr>\n",
       "      <th>Infubinol</th>\n",
       "      <td>52.884795</td>\n",
       "      <td>51.820584</td>\n",
       "      <td>43.128684</td>\n",
       "      <td>6.567243</td>\n",
       "      <td>0.492236</td>\n",
       "    </tr>\n",
       "    <tr>\n",
       "      <th>Ketapril</th>\n",
       "      <td>55.235638</td>\n",
       "      <td>53.698743</td>\n",
       "      <td>68.553577</td>\n",
       "      <td>8.279709</td>\n",
       "      <td>0.603860</td>\n",
       "    </tr>\n",
       "    <tr>\n",
       "      <th>Naftisol</th>\n",
       "      <td>54.331565</td>\n",
       "      <td>52.509285</td>\n",
       "      <td>66.173479</td>\n",
       "      <td>8.134708</td>\n",
       "      <td>0.596466</td>\n",
       "    </tr>\n",
       "  </tbody>\n",
       "</table>\n",
       "</div>"
      ],
      "text/plain": [
       "                   Mean     Median   Variance   Std Div       SEM\n",
       "Drug Regimen                                                     \n",
       "Capomulin     40.675741  41.557809  24.947764  4.994774  0.329346\n",
       "Ceftamin      52.591172  51.776157  39.290177  6.268188  0.469821\n",
       "Infubinol     52.884795  51.820584  43.128684  6.567243  0.492236\n",
       "Ketapril      55.235638  53.698743  68.553577  8.279709  0.603860\n",
       "Naftisol      54.331565  52.509285  66.173479  8.134708  0.596466"
      ]
     },
     "execution_count": 66,
     "metadata": {},
     "output_type": "execute_result"
    }
   ],
   "source": [
    "# Generate a summary statistics table of mean, median, variance, standard deviation, and SEM of the tumor volume for each regimen\n",
    "summary_stats_df = dup_mice_df.copy()\n",
    "summary_tumor_vol_regimen = summary_stats_df[[\"Drug Regimen\", \"Tumor Volume (mm3)\"]]\n",
    "grouped_summary = summary_tumor_vol_regimen.groupby(\"Drug Regimen\")\n",
    "\n",
    "# Create series for each request before inputting into a DF\n",
    "grouped_tumor_vol_mean = grouped_summary.mean()\n",
    "grouped_tumor_vol_med = grouped_summary.median()\n",
    "grouped_tumor_vol_var = grouped_summary.var()\n",
    "grouped_tumor_vol_std = grouped_summary.std()\n",
    "grouped_tumor_vol_sem = grouped_summary.sem()\n",
    "# This method is the most straightforward, creating multiple series and putting them all together at the end.\n",
    "# Create a DF with all data requested\n",
    "combined_group_vol_reg = pd.DataFrame({\"Mean\": grouped_tumor_vol_mean[\"Tumor Volume (mm3)\"],\n",
    "                                      \"Median\": grouped_tumor_vol_med[\"Tumor Volume (mm3)\"],\n",
    "                                      \"Variance\": grouped_tumor_vol_var[\"Tumor Volume (mm3)\"],\n",
    "                                      \"Std Div\": grouped_tumor_vol_std[\"Tumor Volume (mm3)\"],\n",
    "                                      \"SEM\": grouped_tumor_vol_sem[\"Tumor Volume (mm3)\"]\n",
    "                                      })\n",
    "combined_group_vol_reg.head()"
   ]
  },
  {
   "cell_type": "code",
   "execution_count": 67,
   "metadata": {},
   "outputs": [],
   "source": [
    "assert len(dup_mice_df['Mouse ID'].value_counts()) == 248"
   ]
  },
  {
   "cell_type": "markdown",
   "metadata": {},
   "source": [
    "### Generate a summary statistics table of mean, median, variance, standard deviation, and SEM of the tumor volume for each regimen"
   ]
  },
  {
   "cell_type": "markdown",
   "metadata": {},
   "source": [
    "This method produces everything in a single groupby function."
   ]
  },
  {
   "cell_type": "code",
   "execution_count": 68,
   "metadata": {
    "scrolled": true
   },
   "outputs": [
    {
     "data": {
      "text/html": [
       "<div>\n",
       "<style scoped>\n",
       "    .dataframe tbody tr th:only-of-type {\n",
       "        vertical-align: middle;\n",
       "    }\n",
       "\n",
       "    .dataframe tbody tr th {\n",
       "        vertical-align: top;\n",
       "    }\n",
       "\n",
       "    .dataframe thead th {\n",
       "        text-align: right;\n",
       "    }\n",
       "</style>\n",
       "<table border=\"1\" class=\"dataframe\">\n",
       "  <thead>\n",
       "    <tr style=\"text-align: right;\">\n",
       "      <th></th>\n",
       "      <th>Mean</th>\n",
       "      <th>Median</th>\n",
       "      <th>Variance</th>\n",
       "      <th>Std_Div</th>\n",
       "      <th>SEM</th>\n",
       "    </tr>\n",
       "    <tr>\n",
       "      <th>Drug Regimen</th>\n",
       "      <th></th>\n",
       "      <th></th>\n",
       "      <th></th>\n",
       "      <th></th>\n",
       "      <th></th>\n",
       "    </tr>\n",
       "  </thead>\n",
       "  <tbody>\n",
       "    <tr>\n",
       "      <th>Capomulin</th>\n",
       "      <td>40.675741</td>\n",
       "      <td>41.557809</td>\n",
       "      <td>24.947764</td>\n",
       "      <td>4.994774</td>\n",
       "      <td>0.329346</td>\n",
       "    </tr>\n",
       "    <tr>\n",
       "      <th>Ceftamin</th>\n",
       "      <td>52.591172</td>\n",
       "      <td>51.776157</td>\n",
       "      <td>39.290177</td>\n",
       "      <td>6.268188</td>\n",
       "      <td>0.469821</td>\n",
       "    </tr>\n",
       "    <tr>\n",
       "      <th>Infubinol</th>\n",
       "      <td>52.884795</td>\n",
       "      <td>51.820584</td>\n",
       "      <td>43.128684</td>\n",
       "      <td>6.567243</td>\n",
       "      <td>0.492236</td>\n",
       "    </tr>\n",
       "    <tr>\n",
       "      <th>Ketapril</th>\n",
       "      <td>55.235638</td>\n",
       "      <td>53.698743</td>\n",
       "      <td>68.553577</td>\n",
       "      <td>8.279709</td>\n",
       "      <td>0.603860</td>\n",
       "    </tr>\n",
       "    <tr>\n",
       "      <th>Naftisol</th>\n",
       "      <td>54.331565</td>\n",
       "      <td>52.509285</td>\n",
       "      <td>66.173479</td>\n",
       "      <td>8.134708</td>\n",
       "      <td>0.596466</td>\n",
       "    </tr>\n",
       "    <tr>\n",
       "      <th>Placebo</th>\n",
       "      <td>54.033581</td>\n",
       "      <td>52.288934</td>\n",
       "      <td>61.168083</td>\n",
       "      <td>7.821003</td>\n",
       "      <td>0.581331</td>\n",
       "    </tr>\n",
       "    <tr>\n",
       "      <th>Propriva</th>\n",
       "      <td>52.320930</td>\n",
       "      <td>50.446266</td>\n",
       "      <td>43.852013</td>\n",
       "      <td>6.622085</td>\n",
       "      <td>0.544332</td>\n",
       "    </tr>\n",
       "    <tr>\n",
       "      <th>Ramicane</th>\n",
       "      <td>40.216745</td>\n",
       "      <td>40.673236</td>\n",
       "      <td>23.486704</td>\n",
       "      <td>4.846308</td>\n",
       "      <td>0.320955</td>\n",
       "    </tr>\n",
       "    <tr>\n",
       "      <th>Stelasyn</th>\n",
       "      <td>54.233149</td>\n",
       "      <td>52.431737</td>\n",
       "      <td>59.450562</td>\n",
       "      <td>7.710419</td>\n",
       "      <td>0.573111</td>\n",
       "    </tr>\n",
       "    <tr>\n",
       "      <th>Zoniferol</th>\n",
       "      <td>53.236507</td>\n",
       "      <td>51.818479</td>\n",
       "      <td>48.533355</td>\n",
       "      <td>6.966589</td>\n",
       "      <td>0.516398</td>\n",
       "    </tr>\n",
       "  </tbody>\n",
       "</table>\n",
       "</div>"
      ],
      "text/plain": [
       "                   Mean     Median   Variance   Std_Div       SEM\n",
       "Drug Regimen                                                     \n",
       "Capomulin     40.675741  41.557809  24.947764  4.994774  0.329346\n",
       "Ceftamin      52.591172  51.776157  39.290177  6.268188  0.469821\n",
       "Infubinol     52.884795  51.820584  43.128684  6.567243  0.492236\n",
       "Ketapril      55.235638  53.698743  68.553577  8.279709  0.603860\n",
       "Naftisol      54.331565  52.509285  66.173479  8.134708  0.596466\n",
       "Placebo       54.033581  52.288934  61.168083  7.821003  0.581331\n",
       "Propriva      52.320930  50.446266  43.852013  6.622085  0.544332\n",
       "Ramicane      40.216745  40.673236  23.486704  4.846308  0.320955\n",
       "Stelasyn      54.233149  52.431737  59.450562  7.710419  0.573111\n",
       "Zoniferol     53.236507  51.818479  48.533355  6.966589  0.516398"
      ]
     },
     "execution_count": 68,
     "metadata": {},
     "output_type": "execute_result"
    }
   ],
   "source": [
    "# Generate a summary statistics table of mean, median, variance, standard deviation, and SEM of the tumor volume for each regimen\n",
    "# This method produces everything in a single groupby function.\n",
    "summary_tumor_vol_regimen.groupby('Drug Regimen').agg(\n",
    "    Mean=pd.NamedAgg(column='Tumor Volume (mm3)', aggfunc='mean'),\n",
    "    Median=pd.NamedAgg(column='Tumor Volume (mm3)', aggfunc='median'),\n",
    "    Variance=pd.NamedAgg(column='Tumor Volume (mm3)', aggfunc='var'),\n",
    "    Std_Div=pd.NamedAgg(column='Tumor Volume (mm3)', aggfunc='std'),\n",
    "    SEM=pd.NamedAgg(column='Tumor Volume (mm3)', aggfunc='sem')\n",
    ")"
   ]
  },
  {
   "cell_type": "code",
   "execution_count": null,
   "metadata": {},
   "outputs": [],
   "source": []
  },
  {
   "cell_type": "markdown",
   "metadata": {},
   "source": [
    "## **Bar Plots**"
   ]
  },
  {
   "cell_type": "markdown",
   "metadata": {},
   "source": [
    "Generate a bar plot showing the number of mice per time point for each treatment throughout the course of the study using **pandas**."
   ]
  },
  {
   "cell_type": "code",
   "execution_count": 69,
   "metadata": {},
   "outputs": [],
   "source": [
    "# Generate a bar plot showing the number of mice per time point for each treatment throughout the course of the study using pandas.\n",
    "# dup_mice_df is the dataframe holding no duplicate mice values.\n",
    "bar_data_df = dup_mice_df.copy()\n",
    "\n",
    "# New DF with only columns used\n",
    "bar_data_df2 = bar_data_df[[\"Mouse ID\",\"Drug Regimen\",\"Timepoint\"]]"
   ]
  },
  {
   "cell_type": "code",
   "execution_count": null,
   "metadata": {},
   "outputs": [],
   "source": []
  },
  {
   "cell_type": "code",
   "execution_count": 70,
   "metadata": {},
   "outputs": [
    {
     "data": {
      "image/png": "[encoded data removed]",
      "text/plain": [
       "<Figure size 1440x432 with 1 Axes>"
      ]
     },
     "metadata": {
      "needs_background": "light"
     },
     "output_type": "display_data"
    }
   ],
   "source": [
    "# First attempt \n",
    "# Group by 'Timepoint' and 'Drug Regimen' to 'Mouse ID'. Count how many in 'Mouse ID', then how many in each 'Timepoint'.\n",
    "# Plot as a Bar Chart, stacked, set figure size for visability, add a title.\n",
    "group_bar_data_df2 = bar_data_df2.groupby(['Timepoint', 'Drug Regimen'])['Mouse ID'].count().unstack(1).plot(kind='bar', figsize=(20, 6), title='Number of Mice per Timepoint, by Treatment')\n",
    "# Add custom Y Label\n",
    "group_bar_data_df2.set_ylabel(\"Number of Mice\")\n",
    "# Move legend outside of chart; was overlapping information with 'best'\n",
    "group_bar_data_df2.legend(bbox_to_anchor=(1, 1))\n",
    "plt.tight_layout()\n",
    "plt.show()"
   ]
  },
  {
   "cell_type": "code",
   "execution_count": 71,
   "metadata": {},
   "outputs": [
    {
     "data": {
      "image/png": "[encoded data removed]",
      "text/plain": [
       "<Figure size 1440x432 with 1 Axes>"
      ]
     },
     "metadata": {
      "needs_background": "light"
     },
     "output_type": "display_data"
    }
   ],
   "source": [
    "# Second attempt\n",
    "# Group by 'Timepoint' and 'Drug Regimen' to 'Mouse ID'. Count how many in 'Mouse ID', then how many in each 'Timepoint'.\n",
    "# Plot as a Bar Chart, stacked, set figure size for visability, add a title.\n",
    "group_bar_data_df2 = bar_data_df2.groupby(['Drug Regimen','Timepoint'])['Mouse ID'].count().unstack(1).plot(kind='bar', figsize=(20, 6), title='Number of Mice per Timepoint, by Treatment')\n",
    "# Add custom Y Label\n",
    "group_bar_data_df2.set_ylabel(\"Number of Mice\")\n",
    "group_bar_data_df2.set_xlabel(\"Drug Regimen by Timepoint\")\n",
    "# Move legend outside of chart; was overlapping information with 'best'\n",
    "group_bar_data_df2.legend(bbox_to_anchor=(1, 1))\n",
    "plt.tight_layout()\n",
    "plt.show()"
   ]
  },
  {
   "cell_type": "code",
   "execution_count": null,
   "metadata": {},
   "outputs": [],
   "source": []
  },
  {
   "cell_type": "markdown",
   "metadata": {},
   "source": [
    " ## Part 2: Graph with Pyplot"
   ]
  },
  {
   "cell_type": "markdown",
   "metadata": {},
   "source": [
    "Generate a bar plot showing the number of mice per time point for each treatment throughout the course of the study using **pyplot**."
   ]
  },
  {
   "cell_type": "code",
   "execution_count": 72,
   "metadata": {},
   "outputs": [
    {
     "data": {
      "text/html": [
       "<div>\n",
       "<style scoped>\n",
       "    .dataframe tbody tr th:only-of-type {\n",
       "        vertical-align: middle;\n",
       "    }\n",
       "\n",
       "    .dataframe tbody tr th {\n",
       "        vertical-align: top;\n",
       "    }\n",
       "\n",
       "    .dataframe thead th {\n",
       "        text-align: right;\n",
       "    }\n",
       "</style>\n",
       "<table border=\"1\" class=\"dataframe\">\n",
       "  <thead>\n",
       "    <tr style=\"text-align: right;\">\n",
       "      <th></th>\n",
       "      <th>Mouse ID</th>\n",
       "      <th>Drug Regimen</th>\n",
       "    </tr>\n",
       "    <tr>\n",
       "      <th>Timepoint</th>\n",
       "      <th></th>\n",
       "      <th></th>\n",
       "    </tr>\n",
       "  </thead>\n",
       "  <tbody>\n",
       "    <tr>\n",
       "      <th>0</th>\n",
       "      <td>k403</td>\n",
       "      <td>Ramicane</td>\n",
       "    </tr>\n",
       "    <tr>\n",
       "      <th>5</th>\n",
       "      <td>k403</td>\n",
       "      <td>Ramicane</td>\n",
       "    </tr>\n",
       "    <tr>\n",
       "      <th>10</th>\n",
       "      <td>k403</td>\n",
       "      <td>Ramicane</td>\n",
       "    </tr>\n",
       "    <tr>\n",
       "      <th>15</th>\n",
       "      <td>k403</td>\n",
       "      <td>Ramicane</td>\n",
       "    </tr>\n",
       "    <tr>\n",
       "      <th>20</th>\n",
       "      <td>k403</td>\n",
       "      <td>Ramicane</td>\n",
       "    </tr>\n",
       "    <tr>\n",
       "      <th>...</th>\n",
       "      <td>...</td>\n",
       "      <td>...</td>\n",
       "    </tr>\n",
       "    <tr>\n",
       "      <th>25</th>\n",
       "      <td>z969</td>\n",
       "      <td>Naftisol</td>\n",
       "    </tr>\n",
       "    <tr>\n",
       "      <th>30</th>\n",
       "      <td>z969</td>\n",
       "      <td>Naftisol</td>\n",
       "    </tr>\n",
       "    <tr>\n",
       "      <th>35</th>\n",
       "      <td>z969</td>\n",
       "      <td>Naftisol</td>\n",
       "    </tr>\n",
       "    <tr>\n",
       "      <th>40</th>\n",
       "      <td>z969</td>\n",
       "      <td>Naftisol</td>\n",
       "    </tr>\n",
       "    <tr>\n",
       "      <th>45</th>\n",
       "      <td>z969</td>\n",
       "      <td>Naftisol</td>\n",
       "    </tr>\n",
       "  </tbody>\n",
       "</table>\n",
       "<p>1880 rows × 2 columns</p>\n",
       "</div>"
      ],
      "text/plain": [
       "          Mouse ID Drug Regimen\n",
       "Timepoint                      \n",
       "0             k403     Ramicane\n",
       "5             k403     Ramicane\n",
       "10            k403     Ramicane\n",
       "15            k403     Ramicane\n",
       "20            k403     Ramicane\n",
       "...            ...          ...\n",
       "25            z969     Naftisol\n",
       "30            z969     Naftisol\n",
       "35            z969     Naftisol\n",
       "40            z969     Naftisol\n",
       "45            z969     Naftisol\n",
       "\n",
       "[1880 rows x 2 columns]"
      ]
     },
     "execution_count": 72,
     "metadata": {},
     "output_type": "execute_result"
    }
   ],
   "source": [
    "# Set index to Drug. Sorting for .loc searching. \n",
    "bar_data_df2_index = bar_data_df2.set_index('Timepoint')\n",
    "bar_data_df2_index"
   ]
  },
  {
   "cell_type": "code",
   "execution_count": 73,
   "metadata": {},
   "outputs": [
    {
     "data": {
      "text/plain": [
       "array(['Ramicane', 'Capomulin', 'Infubinol', 'Placebo', 'Ceftamin',\n",
       "       'Stelasyn', 'Zoniferol', 'Ketapril', 'Propriva', 'Naftisol'],\n",
       "      dtype=object)"
      ]
     },
     "execution_count": 73,
     "metadata": {},
     "output_type": "execute_result"
    }
   ],
   "source": [
    "# Find X-Axis label range\n",
    "tp_list = [0,5,10,15,20,25,30,35,40,45]\n",
    "x_axis = bar_data_df2['Drug Regimen'].unique()\n",
    "x_axis"
   ]
  },
  {
   "cell_type": "code",
   "execution_count": 74,
   "metadata": {},
   "outputs": [],
   "source": [
    "# Look through Timepoint list to count the amount of mice in each drug regimen to timepoint.\n",
    "count_loop=[]\n",
    "for i in tp_list:\n",
    "    location = bar_data_df2_index.loc[i, 'Drug Regimen']\n",
    "    i = location.value_counts()\n",
    "    count_loop.append(i)\n",
    "    #print(i)\n",
    "# List verication of the count_loop.\n",
    "#count_loop"
   ]
  },
  {
   "cell_type": "code",
   "execution_count": 75,
   "metadata": {},
   "outputs": [
    {
     "data": {
      "image/png": "[encoded data removed]",
      "text/plain": [
       "<Figure size 2160x720 with 1 Axes>"
      ]
     },
     "metadata": {
      "needs_background": "light"
     },
     "output_type": "display_data"
    }
   ],
   "source": [
    "# Generate Plot\n",
    "# Assign x_labels\n",
    "labels = bar_data_df2['Drug Regimen'].unique()\n",
    "\n",
    "# Assign x_label locations\n",
    "x = np.arange(len(labels))\n",
    "# Bar Width\n",
    "width = 0.07\n",
    "\n",
    "# Size the bar plot, Retreive y_value\n",
    "fig, ax = plt.subplots(figsize=(30.0,10.0))\n",
    "rects1 = ax.bar(x - width*5, count_loop[0], width, label='Ramicane')\n",
    "rects2 = ax.bar(x - width*4, count_loop[1], width, label='Capomulin')\n",
    "rects3 = ax.bar(x - width*3, count_loop[2], width, label='Infubinol')\n",
    "rects4 = ax.bar(x - width*2, count_loop[3], width, label='Placebo')\n",
    "rects5 = ax.bar(x - width*1, count_loop[4], width, label='Ceftamin')\n",
    "rects6 = ax.bar(x + width*0, count_loop[5], width, label='Stelasyn')\n",
    "rects7 = ax.bar(x + width*1, count_loop[6], width, label='Zoniferol')\n",
    "rects8 = ax.bar(x + width*2, count_loop[7], width, label='Ketapril')\n",
    "rects9 = ax.bar(x + width*3, count_loop[8], width, label='Propriva')\n",
    "rects10 = ax.bar(x + width*4, count_loop[9], width, label='Naftisol')\n",
    "\n",
    "# Add some text for labels, title and custom x-axis tick labels, etc.\n",
    "ax.set_ylabel('Number of Mice')\n",
    "ax.set_xlabel('Drug Regimen by Timepoint')\n",
    "ax.set_title('Scores by group and gender')\n",
    "ax.set_xticks(x)\n",
    "ax.set_xticklabels(labels)\n",
    "ax.legend(tp_list, title='Timepoints')\n",
    "\n",
    "# Loop through reacts above in order to show value of y_label above the graphed bar plot bar. \n",
    "def autolabel(rects):\n",
    "    \"\"\"Attach a text label above each bar in *rects*, displaying its height.\"\"\"\n",
    "    for rect in rects:\n",
    "        height = rect.get_height()\n",
    "        ax.annotate('{}'.format(height),\n",
    "                    xy=(rect.get_x() + rect.get_width() / 2, height),\n",
    "                    xytext=(0, 3),  # 3 points vertical offset\n",
    "                    textcoords=\"offset points\",\n",
    "                    ha='center', va='bottom')\n",
    "\n",
    "# Assign y_value value on top of bar\n",
    "autolabel(rects1)\n",
    "autolabel(rects2)\n",
    "autolabel(rects3)\n",
    "autolabel(rects4)\n",
    "autolabel(rects5)\n",
    "autolabel(rects6)\n",
    "autolabel(rects7)\n",
    "autolabel(rects8)\n",
    "autolabel(rects9)\n",
    "autolabel(rects10)\n",
    "\n",
    "fig.tight_layout()\n",
    "plt.show()"
   ]
  },
  {
   "cell_type": "markdown",
   "metadata": {},
   "source": [
    " "
   ]
  },
  {
   "cell_type": "markdown",
   "metadata": {},
   "source": [
    "## **Pie Plots**"
   ]
  },
  {
   "cell_type": "code",
   "execution_count": 76,
   "metadata": {},
   "outputs": [],
   "source": [
    "pie_plot_data = dup_mice_df.copy()\n"
   ]
  },
  {
   "cell_type": "code",
   "execution_count": 77,
   "metadata": {},
   "outputs": [],
   "source": [
    "# Verify all duplicate values have been removed. No original since data none can be considered original. \n",
    "assert len(dup_mice_df['Mouse ID'].value_counts()) == 248"
   ]
  },
  {
   "cell_type": "code",
   "execution_count": 78,
   "metadata": {},
   "outputs": [],
   "source": [
    "# Generate a pie plot showing the distribution of female versus male mice using pyplot\n",
    "mice_gender_df = pie_plot_data['Sex'].value_counts()"
   ]
  },
  {
   "cell_type": "code",
   "execution_count": 79,
   "metadata": {},
   "outputs": [],
   "source": [
    "# List of gender \n",
    "mice_labels = ['Male', 'Female']"
   ]
  },
  {
   "cell_type": "markdown",
   "metadata": {},
   "source": [
    "### Generate a pie plot showing the distribution of female versus male mice using pandas"
   ]
  },
  {
   "cell_type": "code",
   "execution_count": 80,
   "metadata": {},
   "outputs": [
    {
     "data": {
      "image/png": "[encoded data removed]",
      "text/plain": [
       "<Figure size 432x288 with 1 Axes>"
      ]
     },
     "metadata": {},
     "output_type": "display_data"
    }
   ],
   "source": [
    "# PLOT: PIE\n",
    "# Generate a pie plot showing the distribution of female versus male mice using pandas\n",
    "mice_gender_df_pie_pandas = pie_plot_data['Sex'].value_counts().plot(kind='pie', x=mice_gender_df, explode=(0.1,0), labels=mice_labels, autopct=\"%1.1f%%\", shadow=True)\n",
    "mice_gender_df_pie_pandas\n",
    "plt.axis('equal')\n",
    "plt.show()"
   ]
  },
  {
   "cell_type": "markdown",
   "metadata": {},
   "source": [
    "### Generate a pie plot showing the distribution of female versus male mice using pyplot"
   ]
  },
  {
   "cell_type": "code",
   "execution_count": 81,
   "metadata": {},
   "outputs": [
    {
     "data": {
      "image/png": "[encoded data removed]",
      "text/plain": [
       "<Figure size 432x288 with 1 Axes>"
      ]
     },
     "metadata": {},
     "output_type": "display_data"
    }
   ],
   "source": [
    "# PLOT: PIE\n",
    "plt.pie(\n",
    "    mice_gender_df,\n",
    "    explode=(0.1,0),\n",
    "    labels=mice_labels,\n",
    "    autopct=\"%1.1f%%\",\n",
    "    shadow=True\n",
    ")\n",
    "plt.axis('equal')\n",
    "plt.show()"
   ]
  },
  {
   "cell_type": "markdown",
   "metadata": {},
   "source": [
    " "
   ]
  },
  {
   "cell_type": "markdown",
   "metadata": {},
   "source": [
    "## **Quartiles, Outliers and Boxplots**"
   ]
  },
  {
   "cell_type": "code",
   "execution_count": 82,
   "metadata": {},
   "outputs": [],
   "source": [
    "quartiles_outliers_df = dup_mice_df.copy()"
   ]
  },
  {
   "cell_type": "code",
   "execution_count": 83,
   "metadata": {},
   "outputs": [],
   "source": [
    "# Verify all duplicate values have been removed. No original since data none can be considered original. \n",
    "assert len(dup_mice_df['Mouse ID'].value_counts()) == 248"
   ]
  },
  {
   "cell_type": "markdown",
   "metadata": {},
   "source": [
    "### Calculate the final tumor volume of each mouse across four of the most promising treatment regimens. Calculate the IQR and quantitatively determine if there are any potential outliers. "
   ]
  },
  {
   "cell_type": "code",
   "execution_count": 84,
   "metadata": {},
   "outputs": [],
   "source": [
    "# Remove duplicate Timepoints. Only keep final timepoint found.\n",
    "final_tumor_volume_df = quartiles_outliers_df.drop_duplicates(subset=['Mouse ID'], keep=\"last\", inplace=False)"
   ]
  },
  {
   "cell_type": "code",
   "execution_count": 85,
   "metadata": {},
   "outputs": [],
   "source": [
    "# Filter DF to only columns used\n",
    "filtered_final_tumor_volume_df = final_tumor_volume_df[['Mouse ID', 'Drug Regimen', 'Tumor Volume (mm3)']]"
   ]
  },
  {
   "cell_type": "code",
   "execution_count": 86,
   "metadata": {},
   "outputs": [
    {
     "data": {
      "text/html": [
       "<div>\n",
       "<style scoped>\n",
       "    .dataframe tbody tr th:only-of-type {\n",
       "        vertical-align: middle;\n",
       "    }\n",
       "\n",
       "    .dataframe tbody tr th {\n",
       "        vertical-align: top;\n",
       "    }\n",
       "\n",
       "    .dataframe thead th {\n",
       "        text-align: right;\n",
       "    }\n",
       "</style>\n",
       "<table border=\"1\" class=\"dataframe\">\n",
       "  <thead>\n",
       "    <tr style=\"text-align: right;\">\n",
       "      <th></th>\n",
       "      <th>Mouse ID</th>\n",
       "      <th>Tumor Volume (mm3)</th>\n",
       "    </tr>\n",
       "    <tr>\n",
       "      <th>Drug Regimen</th>\n",
       "      <th></th>\n",
       "      <th></th>\n",
       "    </tr>\n",
       "  </thead>\n",
       "  <tbody>\n",
       "    <tr>\n",
       "      <th>Capomulin</th>\n",
       "      <td>s185</td>\n",
       "      <td>23.343598</td>\n",
       "    </tr>\n",
       "    <tr>\n",
       "      <th>Capomulin</th>\n",
       "      <td>m601</td>\n",
       "      <td>28.430964</td>\n",
       "    </tr>\n",
       "    <tr>\n",
       "      <th>Capomulin</th>\n",
       "      <td>x401</td>\n",
       "      <td>28.484033</td>\n",
       "    </tr>\n",
       "    <tr>\n",
       "      <th>Capomulin</th>\n",
       "      <td>f966</td>\n",
       "      <td>30.485985</td>\n",
       "    </tr>\n",
       "    <tr>\n",
       "      <th>Capomulin</th>\n",
       "      <td>u364</td>\n",
       "      <td>31.023923</td>\n",
       "    </tr>\n",
       "    <tr>\n",
       "      <th>...</th>\n",
       "      <td>...</td>\n",
       "      <td>...</td>\n",
       "    </tr>\n",
       "    <tr>\n",
       "      <th>Zoniferol</th>\n",
       "      <td>g296</td>\n",
       "      <td>68.163195</td>\n",
       "    </tr>\n",
       "    <tr>\n",
       "      <th>Zoniferol</th>\n",
       "      <td>w575</td>\n",
       "      <td>68.401286</td>\n",
       "    </tr>\n",
       "    <tr>\n",
       "      <th>Zoniferol</th>\n",
       "      <td>q511</td>\n",
       "      <td>68.611061</td>\n",
       "    </tr>\n",
       "    <tr>\n",
       "      <th>Zoniferol</th>\n",
       "      <td>q633</td>\n",
       "      <td>70.827796</td>\n",
       "    </tr>\n",
       "    <tr>\n",
       "      <th>Zoniferol</th>\n",
       "      <td>f545</td>\n",
       "      <td>73.324432</td>\n",
       "    </tr>\n",
       "  </tbody>\n",
       "</table>\n",
       "<p>248 rows × 2 columns</p>\n",
       "</div>"
      ],
      "text/plain": [
       "             Mouse ID  Tumor Volume (mm3)\n",
       "Drug Regimen                             \n",
       "Capomulin        s185           23.343598\n",
       "Capomulin        m601           28.430964\n",
       "Capomulin        x401           28.484033\n",
       "Capomulin        f966           30.485985\n",
       "Capomulin        u364           31.023923\n",
       "...               ...                 ...\n",
       "Zoniferol        g296           68.163195\n",
       "Zoniferol        w575           68.401286\n",
       "Zoniferol        q511           68.611061\n",
       "Zoniferol        q633           70.827796\n",
       "Zoniferol        f545           73.324432\n",
       "\n",
       "[248 rows x 2 columns]"
      ]
     },
     "execution_count": 86,
     "metadata": {},
     "output_type": "execute_result"
    }
   ],
   "source": [
    "# Set new index to Drug Regimen\n",
    "new_index_tumor_volume_df = filtered_final_tumor_volume_df.set_index(['Drug Regimen']).sort_values(by=['Drug Regimen','Tumor Volume (mm3)'], ascending=True)\n",
    "new_index_tumor_volume_df"
   ]
  },
  {
   "cell_type": "code",
   "execution_count": 87,
   "metadata": {},
   "outputs": [
    {
     "data": {
      "text/plain": [
       "['Capomulin',\n",
       " 'Ceftamin',\n",
       " 'Infubinol',\n",
       " 'Ketapril',\n",
       " 'Naftisol',\n",
       " 'Placebo',\n",
       " 'Propriva',\n",
       " 'Ramicane',\n",
       " 'Stelasyn',\n",
       " 'Zoniferol']"
      ]
     },
     "execution_count": 87,
     "metadata": {},
     "output_type": "execute_result"
    }
   ],
   "source": [
    "# Make a list of Drug Regimens for Tumors. Used in for loops to grab specific data by regimen name & used for new df header.\n",
    "tumor_regimen_list = new_index_tumor_volume_df.index.unique().tolist()\n",
    "tumor_regimen_list"
   ]
  },
  {
   "cell_type": "code",
   "execution_count": 88,
   "metadata": {},
   "outputs": [],
   "source": [
    "# Look through Timepoint list and count the amount of mice in each drug regimen.\n",
    "# Create an empty list to fill with for loop\n",
    "tumor_quartile=[]\n",
    "\n",
    "# Search through new_index_tumor_volume_df with '.loc[regimen name, 'Tumor Volume (mm3)' column]' and get the quartile\n",
    "for i in tumor_regimen_list:\n",
    "    location = new_index_tumor_volume_df.loc[i, 'Tumor Volume (mm3)'].quantile(q=[.25, .5, .75])\n",
    "    # append results to tumor_quartile list before moving to next value in tumor_regimen_list\n",
    "    tumor_quartile.append(location)"
   ]
  },
  {
   "cell_type": "code",
   "execution_count": 89,
   "metadata": {},
   "outputs": [
    {
     "data": {
      "text/plain": [
       "[0.25    32.377357\n",
       " 0.50    38.125164\n",
       " 0.75    40.159220\n",
       " Name: Tumor Volume (mm3), dtype: float64,\n",
       " 0.25    48.722078\n",
       " 0.50    59.851956\n",
       " 0.75    64.299830\n",
       " Name: Tumor Volume (mm3), dtype: float64,\n",
       " 0.25    54.048608\n",
       " 0.50    60.165180\n",
       " 0.75    65.525743\n",
       " Name: Tumor Volume (mm3), dtype: float64,\n",
       " 0.25    56.720095\n",
       " 0.50    64.487812\n",
       " 0.75    69.872251\n",
       " Name: Tumor Volume (mm3), dtype: float64,\n",
       " 0.25    52.079510\n",
       " 0.50    63.283288\n",
       " 0.75    69.563621\n",
       " Name: Tumor Volume (mm3), dtype: float64,\n",
       " 0.25    52.942902\n",
       " 0.50    62.030594\n",
       " 0.75    68.134288\n",
       " Name: Tumor Volume (mm3), dtype: float64,\n",
       " 0.25    49.119739\n",
       " 0.50    55.591622\n",
       " 0.75    62.689368\n",
       " Name: Tumor Volume (mm3), dtype: float64,\n",
       " 0.25    31.560470\n",
       " 0.50    36.561652\n",
       " 0.75    40.659006\n",
       " Name: Tumor Volume (mm3), dtype: float64,\n",
       " 0.25    52.476596\n",
       " 0.50    62.192350\n",
       " 0.75    69.103944\n",
       " Name: Tumor Volume (mm3), dtype: float64,\n",
       " 0.25    49.988302\n",
       " 0.50    61.840058\n",
       " 0.75    66.794156\n",
       " Name: Tumor Volume (mm3), dtype: float64]"
      ]
     },
     "execution_count": 89,
     "metadata": {},
     "output_type": "execute_result"
    }
   ],
   "source": [
    "tumor_quartile"
   ]
  },
  {
   "cell_type": "code",
   "execution_count": 90,
   "metadata": {},
   "outputs": [],
   "source": [
    "iqr_all = []\n",
    "\n",
    "# loop through tumor_quartile range (0-10). Find IQR by selecting one value at a time in the tumor_quartile list. \n",
    "for i in range(len(tumor_quartile)):\n",
    "    iqr = (tumor_quartile[i][0.75])-(tumor_quartile[i][0.25])\n",
    "    # Append finding to iqr_all list before moving to next value\n",
    "    iqr_all.append(iqr)\n",
    "#print(iqr_all)"
   ]
  },
  {
   "cell_type": "code",
   "execution_count": 91,
   "metadata": {},
   "outputs": [
    {
     "data": {
      "text/plain": [
       "[7.781863460000004,\n",
       " 15.577752179999997,\n",
       " 11.477135160000003,\n",
       " 13.152155339999993,\n",
       " 17.484110670000007,\n",
       " 15.191386480000006,\n",
       " 13.569628922500002,\n",
       " 9.098536719999998,\n",
       " 16.62734878500001,\n",
       " 16.805853529999993]"
      ]
     },
     "execution_count": 91,
     "metadata": {},
     "output_type": "execute_result"
    }
   ],
   "source": [
    "iqr_all"
   ]
  },
  {
   "cell_type": "code",
   "execution_count": 92,
   "metadata": {},
   "outputs": [],
   "source": [
    "assert len(iqr_all) == 10"
   ]
  },
  {
   "cell_type": "code",
   "execution_count": 93,
   "metadata": {},
   "outputs": [],
   "source": [
    "round_iqr_all = [round(num, 2) for num in iqr_all]"
   ]
  },
  {
   "cell_type": "code",
   "execution_count": 94,
   "metadata": {},
   "outputs": [],
   "source": [
    "# Combine both for loop generated list into one.\n",
    "tumor_iqr_all_dict = [dict(zip(tumor_regimen_list, round_iqr_all))]\n",
    "#tumor_iqr_all_dict"
   ]
  },
  {
   "cell_type": "code",
   "execution_count": 95,
   "metadata": {},
   "outputs": [],
   "source": [
    "assert type(tumor_iqr_all_dict) == list"
   ]
  },
  {
   "cell_type": "markdown",
   "metadata": {},
   "source": [
    "## Answer: IQR for all Drug Regimens.\n",
    "Top 4 'Most Promising': 'Ramicane', 'Capomulin', 'Infubinol', 'Placebo'"
   ]
  },
  {
   "cell_type": "code",
   "execution_count": 96,
   "metadata": {},
   "outputs": [
    {
     "data": {
      "text/html": [
       "<div>\n",
       "<style scoped>\n",
       "    .dataframe tbody tr th:only-of-type {\n",
       "        vertical-align: middle;\n",
       "    }\n",
       "\n",
       "    .dataframe tbody tr th {\n",
       "        vertical-align: top;\n",
       "    }\n",
       "\n",
       "    .dataframe thead th {\n",
       "        text-align: right;\n",
       "    }\n",
       "</style>\n",
       "<table border=\"1\" class=\"dataframe\">\n",
       "  <thead>\n",
       "    <tr style=\"text-align: right;\">\n",
       "      <th></th>\n",
       "      <th>Capomulin</th>\n",
       "      <th>Ceftamin</th>\n",
       "      <th>Infubinol</th>\n",
       "      <th>Ketapril</th>\n",
       "      <th>Naftisol</th>\n",
       "      <th>Placebo</th>\n",
       "      <th>Propriva</th>\n",
       "      <th>Ramicane</th>\n",
       "      <th>Stelasyn</th>\n",
       "      <th>Zoniferol</th>\n",
       "    </tr>\n",
       "  </thead>\n",
       "  <tbody>\n",
       "    <tr>\n",
       "      <th>0</th>\n",
       "      <td>7.78</td>\n",
       "      <td>15.58</td>\n",
       "      <td>11.48</td>\n",
       "      <td>13.15</td>\n",
       "      <td>17.48</td>\n",
       "      <td>15.19</td>\n",
       "      <td>13.57</td>\n",
       "      <td>9.1</td>\n",
       "      <td>16.63</td>\n",
       "      <td>16.81</td>\n",
       "    </tr>\n",
       "  </tbody>\n",
       "</table>\n",
       "</div>"
      ],
      "text/plain": [
       "   Capomulin  Ceftamin  Infubinol  Ketapril  Naftisol  Placebo  Propriva  \\\n",
       "0       7.78     15.58      11.48     13.15     17.48    15.19     13.57   \n",
       "\n",
       "   Ramicane  Stelasyn  Zoniferol  \n",
       "0       9.1     16.63      16.81  "
      ]
     },
     "execution_count": 96,
     "metadata": {},
     "output_type": "execute_result"
    }
   ],
   "source": [
    "# Create DF: IQR for each regimen\n",
    "tumor_iqr_all_df = pd.DataFrame.from_dict(tumor_iqr_all_dict, orient='columns')\n",
    "tumor_iqr_all_df"
   ]
  },
  {
   "cell_type": "markdown",
   "metadata": {},
   "source": [
    "### Generate a box plot of the final tumor volume of each mouse across four regimens of interest"
   ]
  },
  {
   "cell_type": "code",
   "execution_count": 97,
   "metadata": {},
   "outputs": [
    {
     "name": "stdout",
     "output_type": "stream",
     "text": [
      "[7.78, 9.1, 11.48, 13.15, 13.57, 15.19, 15.58, 16.63, 16.81, 17.48]\n"
     ]
    }
   ],
   "source": [
    "# Values for plotting\n",
    "box_plot_values = round_iqr_all\n",
    "# Sort to determine outliers\n",
    "values_sorted = sorted(box_plot_values)\n",
    "print(values_sorted)"
   ]
  },
  {
   "cell_type": "code",
   "execution_count": 98,
   "metadata": {},
   "outputs": [],
   "source": [
    "# DF to use columns needed only. 'Drug Regimen', 'Mouse ID', 'Tumor Volume (mm3)'\n",
    "promising_treatment_regimens_4 = final_tumor_volume_df[['Drug Regimen', 'Mouse ID', 'Tumor Volume (mm3)']]"
   ]
  },
  {
   "cell_type": "code",
   "execution_count": 99,
   "metadata": {},
   "outputs": [],
   "source": [
    "# Top 4 most promising. Most alive mice to lowest tumor size from 0 - 45 in timepoint\n",
    "# 'Ramicane', 'Capomulin', 'Infubinol', 'Placebo'"
   ]
  },
  {
   "cell_type": "code",
   "execution_count": 100,
   "metadata": {},
   "outputs": [],
   "source": [
    "# Single out top 4 drug regimen by name into own df for plotting\n",
    "promising_treatment_regimens_Capomulin = promising_treatment_regimens_4[promising_treatment_regimens_4['Drug Regimen'] == 'Capomulin']\n",
    "promising_treatment_regimens_Ramicane = promising_treatment_regimens_4[promising_treatment_regimens_4['Drug Regimen'] == 'Ramicane']\n",
    "promising_treatment_regimens_Infubinol = promising_treatment_regimens_4[promising_treatment_regimens_4['Drug Regimen'] == 'Infubinol']\n",
    "promising_treatment_regimens_Placebo = promising_treatment_regimens_4[promising_treatment_regimens_4['Drug Regimen'] == 'Placebo']"
   ]
  },
  {
   "cell_type": "code",
   "execution_count": 101,
   "metadata": {},
   "outputs": [],
   "source": [
    "# Retreive values from Tumor Volume in new df, by regimen\n",
    "Capomulin_plot_values = promising_treatment_regimens_Capomulin['Tumor Volume (mm3)']\n",
    "Ramicane_plot_values = promising_treatment_regimens_Ramicane['Tumor Volume (mm3)']\n",
    "Infubinol_plot_values = promising_treatment_regimens_Infubinol['Tumor Volume (mm3)']\n",
    "Placebo_plot_values = promising_treatment_regimens_Placebo['Tumor Volume (mm3)']"
   ]
  },
  {
   "cell_type": "code",
   "execution_count": 102,
   "metadata": {},
   "outputs": [
    {
     "data": {
      "image/png": "[encoded data removed]",
      "text/plain": [
       "<Figure size 720x432 with 1 Axes>"
      ]
     },
     "metadata": {
      "needs_background": "light"
     },
     "output_type": "display_data"
    }
   ],
   "source": [
    "# Generate a box plot of the final tumor volume of each mouse across four regimens of interest\n",
    "regimen_plot_info = [Ramicane_plot_values, Capomulin_plot_values, Infubinol_plot_values, Placebo_plot_values]\n",
    "plot_labels = ['Ramicane', 'Capomulin', 'Infubinol', 'Placebo']\n",
    "fig, ax = plt.subplots(figsize=(10, 6))\n",
    "pos = np.array(range(len(regimen_plot_info))) + 1\n",
    "bp = ax.boxplot(regimen_plot_info, sym='k+', showfliers=True)\n",
    "\n",
    "\n",
    "ax.set_xticklabels(plot_labels)\n",
    "ax.set_xlabel('Drug Regimens')\n",
    "ax.set_ylabel('Tumor Volume (mm3)')\n",
    "plt.show()"
   ]
  },
  {
   "cell_type": "code",
   "execution_count": null,
   "metadata": {},
   "outputs": [],
   "source": []
  },
  {
   "cell_type": "markdown",
   "metadata": {},
   "source": [
    "## **Line and Scatter Plots**"
   ]
  },
  {
   "cell_type": "markdown",
   "metadata": {},
   "source": [
    "Generate a line plot of time point versus tumor volume for a mouse treated with Capomulin"
   ]
  },
  {
   "cell_type": "code",
   "execution_count": 103,
   "metadata": {},
   "outputs": [],
   "source": [
    "ls_plot_data = dup_mice_df.copy()\n",
    "# Verify all duplicate values have been removed. No original since data none can be considered original. \n",
    "assert len(dup_mice_df['Mouse ID'].value_counts()) == 248"
   ]
  },
  {
   "cell_type": "code",
   "execution_count": 104,
   "metadata": {},
   "outputs": [
    {
     "data": {
      "text/html": [
       "<div>\n",
       "<style scoped>\n",
       "    .dataframe tbody tr th:only-of-type {\n",
       "        vertical-align: middle;\n",
       "    }\n",
       "\n",
       "    .dataframe tbody tr th {\n",
       "        vertical-align: top;\n",
       "    }\n",
       "\n",
       "    .dataframe thead th {\n",
       "        text-align: right;\n",
       "    }\n",
       "</style>\n",
       "<table border=\"1\" class=\"dataframe\">\n",
       "  <thead>\n",
       "    <tr style=\"text-align: right;\">\n",
       "      <th></th>\n",
       "      <th>Mouse ID</th>\n",
       "      <th>Drug Regimen</th>\n",
       "      <th>Timepoint</th>\n",
       "      <th>Tumor Volume (mm3)</th>\n",
       "    </tr>\n",
       "  </thead>\n",
       "  <tbody>\n",
       "    <tr>\n",
       "      <th>10</th>\n",
       "      <td>s185</td>\n",
       "      <td>Capomulin</td>\n",
       "      <td>0</td>\n",
       "      <td>45.000000</td>\n",
       "    </tr>\n",
       "    <tr>\n",
       "      <th>11</th>\n",
       "      <td>s185</td>\n",
       "      <td>Capomulin</td>\n",
       "      <td>5</td>\n",
       "      <td>43.878496</td>\n",
       "    </tr>\n",
       "    <tr>\n",
       "      <th>12</th>\n",
       "      <td>s185</td>\n",
       "      <td>Capomulin</td>\n",
       "      <td>10</td>\n",
       "      <td>37.614948</td>\n",
       "    </tr>\n",
       "    <tr>\n",
       "      <th>13</th>\n",
       "      <td>s185</td>\n",
       "      <td>Capomulin</td>\n",
       "      <td>15</td>\n",
       "      <td>38.177232</td>\n",
       "    </tr>\n",
       "    <tr>\n",
       "      <th>14</th>\n",
       "      <td>s185</td>\n",
       "      <td>Capomulin</td>\n",
       "      <td>20</td>\n",
       "      <td>36.866876</td>\n",
       "    </tr>\n",
       "    <tr>\n",
       "      <th>...</th>\n",
       "      <td>...</td>\n",
       "      <td>...</td>\n",
       "      <td>...</td>\n",
       "      <td>...</td>\n",
       "    </tr>\n",
       "    <tr>\n",
       "      <th>440</th>\n",
       "      <td>i557</td>\n",
       "      <td>Capomulin</td>\n",
       "      <td>45</td>\n",
       "      <td>47.685963</td>\n",
       "    </tr>\n",
       "    <tr>\n",
       "      <th>1452</th>\n",
       "      <td>r157</td>\n",
       "      <td>Capomulin</td>\n",
       "      <td>0</td>\n",
       "      <td>45.000000</td>\n",
       "    </tr>\n",
       "    <tr>\n",
       "      <th>1453</th>\n",
       "      <td>r157</td>\n",
       "      <td>Capomulin</td>\n",
       "      <td>5</td>\n",
       "      <td>45.597064</td>\n",
       "    </tr>\n",
       "    <tr>\n",
       "      <th>1454</th>\n",
       "      <td>r157</td>\n",
       "      <td>Capomulin</td>\n",
       "      <td>10</td>\n",
       "      <td>46.059608</td>\n",
       "    </tr>\n",
       "    <tr>\n",
       "      <th>1455</th>\n",
       "      <td>r157</td>\n",
       "      <td>Capomulin</td>\n",
       "      <td>15</td>\n",
       "      <td>46.539206</td>\n",
       "    </tr>\n",
       "  </tbody>\n",
       "</table>\n",
       "<p>230 rows × 4 columns</p>\n",
       "</div>"
      ],
      "text/plain": [
       "     Mouse ID Drug Regimen  Timepoint  Tumor Volume (mm3)\n",
       "10       s185    Capomulin          0           45.000000\n",
       "11       s185    Capomulin          5           43.878496\n",
       "12       s185    Capomulin         10           37.614948\n",
       "13       s185    Capomulin         15           38.177232\n",
       "14       s185    Capomulin         20           36.866876\n",
       "...       ...          ...        ...                 ...\n",
       "440      i557    Capomulin         45           47.685963\n",
       "1452     r157    Capomulin          0           45.000000\n",
       "1453     r157    Capomulin          5           45.597064\n",
       "1454     r157    Capomulin         10           46.059608\n",
       "1455     r157    Capomulin         15           46.539206\n",
       "\n",
       "[230 rows x 4 columns]"
      ]
     },
     "execution_count": 104,
     "metadata": {},
     "output_type": "execute_result"
    }
   ],
   "source": [
    "ls_plot_data_shorten = ls_plot_data[['Mouse ID', 'Drug Regimen', 'Timepoint', 'Tumor Volume (mm3)']]\n",
    "ls_plot_Capomulin = ls_plot_data_shorten[ls_plot_data_shorten['Drug Regimen'] == 'Capomulin']\n",
    "ls_plot_Capomulin"
   ]
  },
  {
   "cell_type": "markdown",
   "metadata": {},
   "source": [
    "## Answer"
   ]
  },
  {
   "cell_type": "code",
   "execution_count": 330,
   "metadata": {},
   "outputs": [
    {
     "data": {
      "image/png": "[encoded data removed]",
      "text/plain": [
       "<Figure size 864x720 with 1 Axes>"
      ]
     },
     "metadata": {
      "needs_background": "light"
     },
     "output_type": "display_data"
    }
   ],
   "source": [
    "x_tick_label = ls_plot_Capomulin['Timepoint'].unique()\n",
    "\n",
    "# Generate a line plot of time point versus tumor volume for a mouse treated with Capomulin\n",
    "ls_plot_Capomulin.plot('Timepoint', 'Tumor Volume (mm3)', figsize=(12, 10), linewidth=.5, color='maroon', xticks=x_tick_label, label='Mice treated with Capomulin')\n",
    "plt.xlabel(\"Timepoint\")\n",
    "plt.ylabel(\"Tumor Volume (mm3)\")\n",
    "plt.title(\"Time point VS. Tumor Volume for Mice Treated with Capomulin\", fontsize=22);\n",
    "plt.show()"
   ]
  },
  {
   "cell_type": "code",
   "execution_count": null,
   "metadata": {},
   "outputs": [],
   "source": []
  },
  {
   "cell_type": "markdown",
   "metadata": {},
   "source": [
    "## Generate a scatter plot of mouse weight versus average tumor volume for the Capomulin regimen"
   ]
  },
  {
   "cell_type": "code",
   "execution_count": 369,
   "metadata": {},
   "outputs": [
    {
     "data": {
      "text/html": [
       "<div>\n",
       "<style scoped>\n",
       "    .dataframe tbody tr th:only-of-type {\n",
       "        vertical-align: middle;\n",
       "    }\n",
       "\n",
       "    .dataframe tbody tr th {\n",
       "        vertical-align: top;\n",
       "    }\n",
       "\n",
       "    .dataframe thead th {\n",
       "        text-align: right;\n",
       "    }\n",
       "</style>\n",
       "<table border=\"1\" class=\"dataframe\">\n",
       "  <thead>\n",
       "    <tr style=\"text-align: right;\">\n",
       "      <th></th>\n",
       "      <th>Mouse ID</th>\n",
       "      <th>Drug Regimen</th>\n",
       "      <th>Sex</th>\n",
       "      <th>Age_months</th>\n",
       "      <th>Weight (g)</th>\n",
       "      <th>Timepoint</th>\n",
       "      <th>Tumor Volume (mm3)</th>\n",
       "      <th>Metastatic Sites</th>\n",
       "    </tr>\n",
       "  </thead>\n",
       "  <tbody>\n",
       "    <tr>\n",
       "      <th>0</th>\n",
       "      <td>k403</td>\n",
       "      <td>Ramicane</td>\n",
       "      <td>Male</td>\n",
       "      <td>21</td>\n",
       "      <td>16</td>\n",
       "      <td>0</td>\n",
       "      <td>45.000000</td>\n",
       "      <td>0</td>\n",
       "    </tr>\n",
       "    <tr>\n",
       "      <th>1</th>\n",
       "      <td>k403</td>\n",
       "      <td>Ramicane</td>\n",
       "      <td>Male</td>\n",
       "      <td>21</td>\n",
       "      <td>16</td>\n",
       "      <td>5</td>\n",
       "      <td>38.825898</td>\n",
       "      <td>0</td>\n",
       "    </tr>\n",
       "    <tr>\n",
       "      <th>2</th>\n",
       "      <td>k403</td>\n",
       "      <td>Ramicane</td>\n",
       "      <td>Male</td>\n",
       "      <td>21</td>\n",
       "      <td>16</td>\n",
       "      <td>10</td>\n",
       "      <td>35.014271</td>\n",
       "      <td>1</td>\n",
       "    </tr>\n",
       "    <tr>\n",
       "      <th>3</th>\n",
       "      <td>k403</td>\n",
       "      <td>Ramicane</td>\n",
       "      <td>Male</td>\n",
       "      <td>21</td>\n",
       "      <td>16</td>\n",
       "      <td>15</td>\n",
       "      <td>34.223992</td>\n",
       "      <td>1</td>\n",
       "    </tr>\n",
       "    <tr>\n",
       "      <th>4</th>\n",
       "      <td>k403</td>\n",
       "      <td>Ramicane</td>\n",
       "      <td>Male</td>\n",
       "      <td>21</td>\n",
       "      <td>16</td>\n",
       "      <td>20</td>\n",
       "      <td>32.997729</td>\n",
       "      <td>1</td>\n",
       "    </tr>\n",
       "    <tr>\n",
       "      <th>...</th>\n",
       "      <td>...</td>\n",
       "      <td>...</td>\n",
       "      <td>...</td>\n",
       "      <td>...</td>\n",
       "      <td>...</td>\n",
       "      <td>...</td>\n",
       "      <td>...</td>\n",
       "      <td>...</td>\n",
       "    </tr>\n",
       "    <tr>\n",
       "      <th>1888</th>\n",
       "      <td>z969</td>\n",
       "      <td>Naftisol</td>\n",
       "      <td>Male</td>\n",
       "      <td>9</td>\n",
       "      <td>30</td>\n",
       "      <td>25</td>\n",
       "      <td>63.145652</td>\n",
       "      <td>2</td>\n",
       "    </tr>\n",
       "    <tr>\n",
       "      <th>1889</th>\n",
       "      <td>z969</td>\n",
       "      <td>Naftisol</td>\n",
       "      <td>Male</td>\n",
       "      <td>9</td>\n",
       "      <td>30</td>\n",
       "      <td>30</td>\n",
       "      <td>65.841013</td>\n",
       "      <td>3</td>\n",
       "    </tr>\n",
       "    <tr>\n",
       "      <th>1890</th>\n",
       "      <td>z969</td>\n",
       "      <td>Naftisol</td>\n",
       "      <td>Male</td>\n",
       "      <td>9</td>\n",
       "      <td>30</td>\n",
       "      <td>35</td>\n",
       "      <td>69.176246</td>\n",
       "      <td>4</td>\n",
       "    </tr>\n",
       "    <tr>\n",
       "      <th>1891</th>\n",
       "      <td>z969</td>\n",
       "      <td>Naftisol</td>\n",
       "      <td>Male</td>\n",
       "      <td>9</td>\n",
       "      <td>30</td>\n",
       "      <td>40</td>\n",
       "      <td>70.314904</td>\n",
       "      <td>4</td>\n",
       "    </tr>\n",
       "    <tr>\n",
       "      <th>1892</th>\n",
       "      <td>z969</td>\n",
       "      <td>Naftisol</td>\n",
       "      <td>Male</td>\n",
       "      <td>9</td>\n",
       "      <td>30</td>\n",
       "      <td>45</td>\n",
       "      <td>73.867845</td>\n",
       "      <td>4</td>\n",
       "    </tr>\n",
       "  </tbody>\n",
       "</table>\n",
       "<p>1880 rows × 8 columns</p>\n",
       "</div>"
      ],
      "text/plain": [
       "     Mouse ID Drug Regimen   Sex  Age_months  Weight (g)  Timepoint  \\\n",
       "0        k403     Ramicane  Male          21          16          0   \n",
       "1        k403     Ramicane  Male          21          16          5   \n",
       "2        k403     Ramicane  Male          21          16         10   \n",
       "3        k403     Ramicane  Male          21          16         15   \n",
       "4        k403     Ramicane  Male          21          16         20   \n",
       "...       ...          ...   ...         ...         ...        ...   \n",
       "1888     z969     Naftisol  Male           9          30         25   \n",
       "1889     z969     Naftisol  Male           9          30         30   \n",
       "1890     z969     Naftisol  Male           9          30         35   \n",
       "1891     z969     Naftisol  Male           9          30         40   \n",
       "1892     z969     Naftisol  Male           9          30         45   \n",
       "\n",
       "      Tumor Volume (mm3)  Metastatic Sites  \n",
       "0              45.000000                 0  \n",
       "1              38.825898                 0  \n",
       "2              35.014271                 1  \n",
       "3              34.223992                 1  \n",
       "4              32.997729                 1  \n",
       "...                  ...               ...  \n",
       "1888           63.145652                 2  \n",
       "1889           65.841013                 3  \n",
       "1890           69.176246                 4  \n",
       "1891           70.314904                 4  \n",
       "1892           73.867845                 4  \n",
       "\n",
       "[1880 rows x 8 columns]"
      ]
     },
     "execution_count": 369,
     "metadata": {},
     "output_type": "execute_result"
    }
   ],
   "source": [
    "# Clean start on df\n",
    "ls_plot_data"
   ]
  },
  {
   "cell_type": "code",
   "execution_count": 371,
   "metadata": {},
   "outputs": [],
   "source": [
    "# verify using df with no duplicates\n",
    "assert len(ls_plot_data['Mouse ID'].value_counts()) == 248"
   ]
  },
  {
   "cell_type": "code",
   "execution_count": 309,
   "metadata": {},
   "outputs": [
    {
     "data": {
      "text/html": [
       "<div>\n",
       "<style scoped>\n",
       "    .dataframe tbody tr th:only-of-type {\n",
       "        vertical-align: middle;\n",
       "    }\n",
       "\n",
       "    .dataframe tbody tr th {\n",
       "        vertical-align: top;\n",
       "    }\n",
       "\n",
       "    .dataframe thead th {\n",
       "        text-align: right;\n",
       "    }\n",
       "</style>\n",
       "<table border=\"1\" class=\"dataframe\">\n",
       "  <thead>\n",
       "    <tr style=\"text-align: right;\">\n",
       "      <th></th>\n",
       "      <th>Weight (g)</th>\n",
       "      <th>Tumor Volume (mm3)</th>\n",
       "    </tr>\n",
       "    <tr>\n",
       "      <th>Mouse ID</th>\n",
       "      <th></th>\n",
       "      <th></th>\n",
       "    </tr>\n",
       "  </thead>\n",
       "  <tbody>\n",
       "    <tr>\n",
       "      <th>b128</th>\n",
       "      <td>22</td>\n",
       "      <td>41.963636</td>\n",
       "    </tr>\n",
       "    <tr>\n",
       "      <th>b742</th>\n",
       "      <td>21</td>\n",
       "      <td>40.083699</td>\n",
       "    </tr>\n",
       "    <tr>\n",
       "      <th>f966</th>\n",
       "      <td>17</td>\n",
       "      <td>36.505973</td>\n",
       "    </tr>\n",
       "    <tr>\n",
       "      <th>g288</th>\n",
       "      <td>19</td>\n",
       "      <td>41.990097</td>\n",
       "    </tr>\n",
       "    <tr>\n",
       "      <th>g316</th>\n",
       "      <td>22</td>\n",
       "      <td>44.613344</td>\n",
       "    </tr>\n",
       "    <tr>\n",
       "      <th>i557</th>\n",
       "      <td>24</td>\n",
       "      <td>44.805810</td>\n",
       "    </tr>\n",
       "    <tr>\n",
       "      <th>i738</th>\n",
       "      <td>20</td>\n",
       "      <td>39.141053</td>\n",
       "    </tr>\n",
       "    <tr>\n",
       "      <th>j119</th>\n",
       "      <td>23</td>\n",
       "      <td>44.465236</td>\n",
       "    </tr>\n",
       "    <tr>\n",
       "      <th>j246</th>\n",
       "      <td>21</td>\n",
       "      <td>43.216925</td>\n",
       "    </tr>\n",
       "    <tr>\n",
       "      <th>l509</th>\n",
       "      <td>21</td>\n",
       "      <td>44.434474</td>\n",
       "    </tr>\n",
       "    <tr>\n",
       "      <th>l897</th>\n",
       "      <td>19</td>\n",
       "      <td>42.507261</td>\n",
       "    </tr>\n",
       "    <tr>\n",
       "      <th>m601</th>\n",
       "      <td>17</td>\n",
       "      <td>34.847470</td>\n",
       "    </tr>\n",
       "    <tr>\n",
       "      <th>m957</th>\n",
       "      <td>19</td>\n",
       "      <td>39.049816</td>\n",
       "    </tr>\n",
       "    <tr>\n",
       "      <th>r157</th>\n",
       "      <td>25</td>\n",
       "      <td>45.798970</td>\n",
       "    </tr>\n",
       "    <tr>\n",
       "      <th>r554</th>\n",
       "      <td>17</td>\n",
       "      <td>36.509212</td>\n",
       "    </tr>\n",
       "    <tr>\n",
       "      <th>r944</th>\n",
       "      <td>25</td>\n",
       "      <td>43.367364</td>\n",
       "    </tr>\n",
       "    <tr>\n",
       "      <th>s185</th>\n",
       "      <td>17</td>\n",
       "      <td>34.559143</td>\n",
       "    </tr>\n",
       "    <tr>\n",
       "      <th>s710</th>\n",
       "      <td>23</td>\n",
       "      <td>42.803733</td>\n",
       "    </tr>\n",
       "    <tr>\n",
       "      <th>t565</th>\n",
       "      <td>17</td>\n",
       "      <td>39.328725</td>\n",
       "    </tr>\n",
       "    <tr>\n",
       "      <th>u364</th>\n",
       "      <td>17</td>\n",
       "      <td>39.887495</td>\n",
       "    </tr>\n",
       "    <tr>\n",
       "      <th>v923</th>\n",
       "      <td>21</td>\n",
       "      <td>41.581595</td>\n",
       "    </tr>\n",
       "    <tr>\n",
       "      <th>w150</th>\n",
       "      <td>23</td>\n",
       "      <td>41.384825</td>\n",
       "    </tr>\n",
       "    <tr>\n",
       "      <th>w914</th>\n",
       "      <td>21</td>\n",
       "      <td>41.352452</td>\n",
       "    </tr>\n",
       "    <tr>\n",
       "      <th>x401</th>\n",
       "      <td>15</td>\n",
       "      <td>36.182040</td>\n",
       "    </tr>\n",
       "    <tr>\n",
       "      <th>y793</th>\n",
       "      <td>17</td>\n",
       "      <td>38.506829</td>\n",
       "    </tr>\n",
       "  </tbody>\n",
       "</table>\n",
       "</div>"
      ],
      "text/plain": [
       "          Weight (g)  Tumor Volume (mm3)\n",
       "Mouse ID                                \n",
       "b128              22           41.963636\n",
       "b742              21           40.083699\n",
       "f966              17           36.505973\n",
       "g288              19           41.990097\n",
       "g316              22           44.613344\n",
       "i557              24           44.805810\n",
       "i738              20           39.141053\n",
       "j119              23           44.465236\n",
       "j246              21           43.216925\n",
       "l509              21           44.434474\n",
       "l897              19           42.507261\n",
       "m601              17           34.847470\n",
       "m957              19           39.049816\n",
       "r157              25           45.798970\n",
       "r554              17           36.509212\n",
       "r944              25           43.367364\n",
       "s185              17           34.559143\n",
       "s710              23           42.803733\n",
       "t565              17           39.328725\n",
       "u364              17           39.887495\n",
       "v923              21           41.581595\n",
       "w150              23           41.384825\n",
       "w914              21           41.352452\n",
       "x401              15           36.182040\n",
       "y793              17           38.506829"
      ]
     },
     "execution_count": 309,
     "metadata": {},
     "output_type": "execute_result"
    }
   ],
   "source": [
    "# Create df and group by Mouse ID: mouse weight versus average tumor volume for the Capomulin regimen\n",
    "scatter_data_shorten = ls_plot_data[['Mouse ID', 'Drug Regimen', 'Weight (g)', 'Tumor Volume (mm3)']]\n",
    "scatter_data_capomulin = scatter_data_shorten[scatter_data_shorten['Drug Regimen'] == 'Capomulin']\n",
    "scatter_data_capo_avg_tum = scatter_data_capomulin.groupby('Mouse ID').mean()\n",
    "scatter_data_capo_avg_tum"
   ]
  },
  {
   "cell_type": "markdown",
   "metadata": {},
   "source": [
    "## Answer"
   ]
  },
  {
   "cell_type": "code",
   "execution_count": 327,
   "metadata": {},
   "outputs": [],
   "source": [
    "x_tick_label_scatter = range(scatter_data_capo_avg_tum['Weight (g)'].min(),scatter_data_capo_avg_tum['Weight (g)'].max() + 1)"
   ]
  },
  {
   "cell_type": "code",
   "execution_count": 329,
   "metadata": {},
   "outputs": [
    {
     "data": {
      "image/png": "[encoded data removed]",
      "text/plain": [
       "<Figure size 864x720 with 1 Axes>"
      ]
     },
     "metadata": {
      "needs_background": "light"
     },
     "output_type": "display_data"
    }
   ],
   "source": [
    "# Generate a scatter plot of mouse weight versus average tumor volume for the Capomulin regimen\n",
    "scatter_data_capo_avg_tum.plot('Weight (g)','Tumor Volume (mm3)',kind='scatter', s=50, figsize=(12, 10), xticks=x_tick_label_scatter)\n",
    "plt.xlabel('Weight (g) , per Mouse')\n",
    "plt.ylabel('Average Tumor Volume (mm3), per Mouse')\n",
    "plt.title('Mouse Weight VS. Average Tumor Volume for the Capomulin Regimen')\n",
    "plt.show()"
   ]
  },
  {
   "cell_type": "code",
   "execution_count": 213,
   "metadata": {},
   "outputs": [],
   "source": []
  },
  {
   "cell_type": "markdown",
   "metadata": {},
   "source": [
    "## **Correlation and Regression**"
   ]
  },
  {
   "cell_type": "markdown",
   "metadata": {},
   "source": [
    "Calculate the correlation coefficient and linear regression model for mouse weight and average tumor volume for the Capomulin regimen\n"
   ]
  },
  {
   "cell_type": "code",
   "execution_count": 267,
   "metadata": {},
   "outputs": [],
   "source": [
    "x_values = scatter_data_capo_avg_tum['Weight (g)']\n",
    "y_values = scatter_data_capo_avg_tum['Tumor Volume (mm3)']"
   ]
  },
  {
   "cell_type": "code",
   "execution_count": 268,
   "metadata": {},
   "outputs": [
    {
     "name": "stdout",
     "output_type": "stream",
     "text": [
      "Mouse ID\n",
      "b128    42.549834\n",
      "b742    41.595394\n",
      "f966    37.777635\n",
      "g288    39.686515\n",
      "g316    42.549834\n",
      "i557    44.458713\n",
      "i738    40.640954\n",
      "j119    43.504273\n",
      "j246    41.595394\n",
      "l509    41.595394\n",
      "l897    39.686515\n",
      "m601    37.777635\n",
      "m957    39.686515\n",
      "r157    45.413153\n",
      "r554    37.777635\n",
      "r944    45.413153\n",
      "s185    37.777635\n",
      "s710    43.504273\n",
      "t565    37.777635\n",
      "u364    37.777635\n",
      "v923    41.595394\n",
      "w150    43.504273\n",
      "w914    41.595394\n",
      "x401    35.868756\n",
      "y793    37.777635\n",
      "Name: Weight (g), dtype: float64\n"
     ]
    }
   ],
   "source": [
    "# Perform a linear regression on temperature vs. latitude\n",
    "(slope, intercept, rvalue, pvalue, stderr) = stats.linregress(x_values, y_values)\n",
    "\n",
    "# Get regression values\n",
    "regress_values = x_values * slope + intercept\n",
    "print(regress_values)"
   ]
  },
  {
   "cell_type": "code",
   "execution_count": 270,
   "metadata": {},
   "outputs": [
    {
     "name": "stdout",
     "output_type": "stream",
     "text": [
      "y = 0.95x +21.55\n"
     ]
    }
   ],
   "source": [
    "# Create line equation string\n",
    "line_eq = \"y = \" + str(round(slope,2)) + \"x +\" + str(round(intercept,2))\n",
    "print(line_eq)"
   ]
  },
  {
   "cell_type": "markdown",
   "metadata": {},
   "source": [
    "## **Answer**: linear regression model for mouse weight and average tumor volume for the Capomulin regimen"
   ]
  },
  {
   "cell_type": "code",
   "execution_count": 362,
   "metadata": {},
   "outputs": [
    {
     "name": "stdout",
     "output_type": "stream",
     "text": [
      "The r-squared is: 0.7088568047708717\n"
     ]
    },
    {
     "data": {
      "image/png": "[encoded data removed]",
      "text/plain": [
       "<Figure size 864x720 with 1 Axes>"
      ]
     },
     "metadata": {
      "needs_background": "light"
     },
     "output_type": "display_data"
    }
   ],
   "source": [
    "# Create Plot\n",
    "plt.figure(figsize=(12, 10))\n",
    "plt.scatter(x_values,y_values)\n",
    "plt.plot(x_values,regress_values,c=\"r\")\n",
    "# Label plot and annotate the line equation\n",
    "plt.annotate(line_eq,xy=(16.5, 40.5),fontsize=20,color=\"red\")\n",
    "plt.xticks(x_tick_label_scatter)\n",
    "plt.xlabel('Weight (g) , per Mouse')\n",
    "plt.ylabel('Average Tumor Volume (mm3), per Mouse')\n",
    "plt.title('Mouse Weight VS. Average Tumor Volume for the Capomulin Regimen')\n",
    "\n",
    "# Print r square value\n",
    "print(f\"The r-squared is: {rvalue**2}\")\n",
    "\n",
    "# Show plot\n",
    "plt.show()"
   ]
  },
  {
   "cell_type": "markdown",
   "metadata": {},
   "source": [
    "## **Answer**: Coorelation Coefficient between 'Weight' and 'Average Tumor Volume' for all Mice for the Capomulin regimen."
   ]
  },
  {
   "cell_type": "code",
   "execution_count": 363,
   "metadata": {},
   "outputs": [
    {
     "name": "stdout",
     "output_type": "stream",
     "text": [
      "The correlation between both factors is 0.84\n"
     ]
    }
   ],
   "source": [
    "# The next example will compute the Pearson correlation coefficient between \"Income per Capita\" and \"Average Alcohol Consumed\"\n",
    "weight_values = x_values\n",
    "abg_tumor_values = y_values\n",
    "correlation = stats.pearsonr(weight_values,abg_tumor_values)\n",
    "print(f\"The correlation between both factors is {round(correlation[0],2)}\")"
   ]
  },
  {
   "cell_type": "code",
   "execution_count": null,
   "metadata": {},
   "outputs": [],
   "source": []
  }
 ],
 "metadata": {
  "anaconda-cloud": {},
  "kernelspec": {
   "display_name": "Python 3",
   "language": "python",
   "name": "python3"
  },
  "language_info": {
   "codemirror_mode": {
    "name": "ipython",
    "version": 3
   },
   "file_extension": ".py",
   "mimetype": "text/x-python",
   "name": "python",
   "nbconvert_exporter": "python",
   "pygments_lexer": "ipython3",
   "version": "3.7.7"
  }
 },
 "nbformat": 4,
 "nbformat_minor": 4
}
